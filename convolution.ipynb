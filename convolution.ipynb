{
 "cells": [
  {
   "cell_type": "code",
   "execution_count": 2,
   "metadata": {},
   "outputs": [],
   "source": [
    "import numpy as np\n",
    "import pandas as pd\n",
    "import matplotlib.pyplot as plt\n",
    "import tensorflow as tf\n",
    "import random\n",
    "import keras\n",
    "import os\n",
    "from tensorflow.keras.layers import Dense, Flatten, Conv2D, MaxPooling2D, BatchNormalization\n",
    "from tensorflow.keras import Model\n",
    "from tensorflow.keras import Sequential\n",
    "from tensorflow.keras.optimizers import Adam\n",
    "from keras.preprocessing.image import ImageDataGenerator\n",
    "\n",
    "os.environ[\"TF_CPP_MIN_LOG_LEVEL\"] = \"2\"\n",
    "\n",
    "from tensorflow.keras.datasets import cifar10\n",
    "\n",
    "physical_devices = tf.config.list_physical_devices(\"GPU\")\n",
    "tf.config.experimental.set_memory_growth(physical_devices[0], True)\n",
    "\n",
    "from PIL import ImageFile\n",
    "ImageFile.LOAD_TRUNCATED_IMAGES = True\n"
   ]
  },
  {
   "cell_type": "code",
   "execution_count": 3,
   "metadata": {},
   "outputs": [],
   "source": [
    "dfTrain = pd.read_csv('./Train_copia.csv')\n",
    "dfValidation = pd.read_csv('./Validation.csv')\n",
    "dfTest = pd.read_csv('./Test.csv')"
   ]
  },
  {
   "cell_type": "code",
   "execution_count": 3,
   "metadata": {},
   "outputs": [
    {
     "data": {
      "text/html": [
       "<div>\n",
       "<style scoped>\n",
       "    .dataframe tbody tr th:only-of-type {\n",
       "        vertical-align: middle;\n",
       "    }\n",
       "\n",
       "    .dataframe tbody tr th {\n",
       "        vertical-align: top;\n",
       "    }\n",
       "\n",
       "    .dataframe thead th {\n",
       "        text-align: right;\n",
       "    }\n",
       "</style>\n",
       "<table border=\"1\" class=\"dataframe\">\n",
       "  <thead>\n",
       "    <tr style=\"text-align: right;\">\n",
       "      <th></th>\n",
       "      <th>SensorTime</th>\n",
       "      <th>CaptureTime</th>\n",
       "      <th>Filename</th>\n",
       "      <th>Agency</th>\n",
       "      <th>SiteNumber</th>\n",
       "      <th>TimeZone</th>\n",
       "      <th>Stage</th>\n",
       "      <th>Discharge</th>\n",
       "      <th>CalcTimestamp</th>\n",
       "      <th>width</th>\n",
       "      <th>...</th>\n",
       "      <th>WeirPt2X</th>\n",
       "      <th>WeirPt2Y</th>\n",
       "      <th>WwRawLineMin</th>\n",
       "      <th>WwRawLineMax</th>\n",
       "      <th>WwRawLineMean</th>\n",
       "      <th>WwRawLineSigma</th>\n",
       "      <th>WwCurveLineMin</th>\n",
       "      <th>WwCurveLineMax</th>\n",
       "      <th>WwCurveLineMean</th>\n",
       "      <th>WwCurveLineSigma</th>\n",
       "    </tr>\n",
       "  </thead>\n",
       "  <tbody>\n",
       "    <tr>\n",
       "      <th>0</th>\n",
       "      <td>09/06/2012 13:15</td>\n",
       "      <td>2012-06-09T13:09:07</td>\n",
       "      <td>./images2/StateLineWeir_20120609_Farrell_001.jpg</td>\n",
       "      <td>USGS</td>\n",
       "      <td>6674500</td>\n",
       "      <td>MDT</td>\n",
       "      <td>2.99</td>\n",
       "      <td>916.0</td>\n",
       "      <td>2020-03-11T16:58:28</td>\n",
       "      <td>4288</td>\n",
       "      <td>...</td>\n",
       "      <td>-1</td>\n",
       "      <td>-1</td>\n",
       "      <td>0</td>\n",
       "      <td>0</td>\n",
       "      <td>0.00000</td>\n",
       "      <td>0.00000</td>\n",
       "      <td>0</td>\n",
       "      <td>0</td>\n",
       "      <td>0.00000</td>\n",
       "      <td>0.00000</td>\n",
       "    </tr>\n",
       "    <tr>\n",
       "      <th>1</th>\n",
       "      <td>09/06/2012 13:15</td>\n",
       "      <td>2012-06-09T13:10:29</td>\n",
       "      <td>./images2/StateLineWeir_20120609_Farrell_002.jpg</td>\n",
       "      <td>USGS</td>\n",
       "      <td>6674500</td>\n",
       "      <td>MDT</td>\n",
       "      <td>2.99</td>\n",
       "      <td>916.0</td>\n",
       "      <td>2020-03-11T16:58:33</td>\n",
       "      <td>4288</td>\n",
       "      <td>...</td>\n",
       "      <td>-1</td>\n",
       "      <td>-1</td>\n",
       "      <td>0</td>\n",
       "      <td>0</td>\n",
       "      <td>0.00000</td>\n",
       "      <td>0.00000</td>\n",
       "      <td>0</td>\n",
       "      <td>0</td>\n",
       "      <td>0.00000</td>\n",
       "      <td>0.00000</td>\n",
       "    </tr>\n",
       "    <tr>\n",
       "      <th>2</th>\n",
       "      <td>09/06/2012 13:45</td>\n",
       "      <td>2012-06-09T13:44:01</td>\n",
       "      <td>./images2/StateLineWeir_20120609_Farrell_003.jpg</td>\n",
       "      <td>USGS</td>\n",
       "      <td>6674500</td>\n",
       "      <td>MDT</td>\n",
       "      <td>2.96</td>\n",
       "      <td>873.0</td>\n",
       "      <td>2020-03-11T16:58:40</td>\n",
       "      <td>4288</td>\n",
       "      <td>...</td>\n",
       "      <td>-1</td>\n",
       "      <td>-1</td>\n",
       "      <td>0</td>\n",
       "      <td>0</td>\n",
       "      <td>0.00000</td>\n",
       "      <td>0.00000</td>\n",
       "      <td>0</td>\n",
       "      <td>0</td>\n",
       "      <td>0.00000</td>\n",
       "      <td>0.00000</td>\n",
       "    </tr>\n",
       "    <tr>\n",
       "      <th>3</th>\n",
       "      <td>09/06/2012 14:45</td>\n",
       "      <td>2012-06-09T14:44:30</td>\n",
       "      <td>./images2/StateLineWeir_20120609_Farrell_004.jpg</td>\n",
       "      <td>USGS</td>\n",
       "      <td>6674500</td>\n",
       "      <td>MDT</td>\n",
       "      <td>2.94</td>\n",
       "      <td>846.0</td>\n",
       "      <td>2020-03-11T16:58:47</td>\n",
       "      <td>4288</td>\n",
       "      <td>...</td>\n",
       "      <td>-1</td>\n",
       "      <td>-1</td>\n",
       "      <td>0</td>\n",
       "      <td>0</td>\n",
       "      <td>0.00000</td>\n",
       "      <td>0.00000</td>\n",
       "      <td>0</td>\n",
       "      <td>0</td>\n",
       "      <td>0.00000</td>\n",
       "      <td>0.00000</td>\n",
       "    </tr>\n",
       "    <tr>\n",
       "      <th>4</th>\n",
       "      <td>09/06/2012 15:45</td>\n",
       "      <td>2012-06-09T15:44:59</td>\n",
       "      <td>./images2/StateLineWeir_20120609_Farrell_005.jpg</td>\n",
       "      <td>USGS</td>\n",
       "      <td>6674500</td>\n",
       "      <td>MDT</td>\n",
       "      <td>2.94</td>\n",
       "      <td>846.0</td>\n",
       "      <td>2020-03-11T16:58:55</td>\n",
       "      <td>4288</td>\n",
       "      <td>...</td>\n",
       "      <td>-1</td>\n",
       "      <td>-1</td>\n",
       "      <td>0</td>\n",
       "      <td>0</td>\n",
       "      <td>0.00000</td>\n",
       "      <td>0.00000</td>\n",
       "      <td>0</td>\n",
       "      <td>0</td>\n",
       "      <td>0.00000</td>\n",
       "      <td>0.00000</td>\n",
       "    </tr>\n",
       "    <tr>\n",
       "      <th>...</th>\n",
       "      <td>...</td>\n",
       "      <td>...</td>\n",
       "      <td>...</td>\n",
       "      <td>...</td>\n",
       "      <td>...</td>\n",
       "      <td>...</td>\n",
       "      <td>...</td>\n",
       "      <td>...</td>\n",
       "      <td>...</td>\n",
       "      <td>...</td>\n",
       "      <td>...</td>\n",
       "      <td>...</td>\n",
       "      <td>...</td>\n",
       "      <td>...</td>\n",
       "      <td>...</td>\n",
       "      <td>...</td>\n",
       "      <td>...</td>\n",
       "      <td>...</td>\n",
       "      <td>...</td>\n",
       "      <td>...</td>\n",
       "      <td>...</td>\n",
       "    </tr>\n",
       "    <tr>\n",
       "      <th>14994</th>\n",
       "      <td>27/10/2015 11:00</td>\n",
       "      <td>2015-10-27T11:00:30</td>\n",
       "      <td>./images2/StateLineWeir_20151027_Farrell_138.JPG</td>\n",
       "      <td>USGS</td>\n",
       "      <td>6674500</td>\n",
       "      <td>MDT</td>\n",
       "      <td>2.40</td>\n",
       "      <td>322.0</td>\n",
       "      <td>2020-03-11T16:27:40</td>\n",
       "      <td>4288</td>\n",
       "      <td>...</td>\n",
       "      <td>2186</td>\n",
       "      <td>1900</td>\n",
       "      <td>7751</td>\n",
       "      <td>85919</td>\n",
       "      <td>42249.76797</td>\n",
       "      <td>19871.28279</td>\n",
       "      <td>0</td>\n",
       "      <td>77000</td>\n",
       "      <td>41574.38204</td>\n",
       "      <td>20332.52069</td>\n",
       "    </tr>\n",
       "    <tr>\n",
       "      <th>14995</th>\n",
       "      <td>27/10/2015 12:00</td>\n",
       "      <td>2015-10-27T12:00:31</td>\n",
       "      <td>./images2/StateLineWeir_20151027_Farrell_139.JPG</td>\n",
       "      <td>USGS</td>\n",
       "      <td>6674500</td>\n",
       "      <td>MDT</td>\n",
       "      <td>2.39</td>\n",
       "      <td>315.0</td>\n",
       "      <td>2020-03-11T16:27:42</td>\n",
       "      <td>4288</td>\n",
       "      <td>...</td>\n",
       "      <td>2197</td>\n",
       "      <td>1900</td>\n",
       "      <td>0</td>\n",
       "      <td>81792</td>\n",
       "      <td>39043.91375</td>\n",
       "      <td>19323.98869</td>\n",
       "      <td>0</td>\n",
       "      <td>76047</td>\n",
       "      <td>38548.37317</td>\n",
       "      <td>19516.57002</td>\n",
       "    </tr>\n",
       "    <tr>\n",
       "      <th>14996</th>\n",
       "      <td>27/10/2015 13:00</td>\n",
       "      <td>2015-10-27T13:00:31</td>\n",
       "      <td>./images2/StateLineWeir_20151027_Farrell_140.JPG</td>\n",
       "      <td>USGS</td>\n",
       "      <td>6674500</td>\n",
       "      <td>MDT</td>\n",
       "      <td>2.40</td>\n",
       "      <td>322.0</td>\n",
       "      <td>2020-03-11T16:27:43</td>\n",
       "      <td>4288</td>\n",
       "      <td>...</td>\n",
       "      <td>2179</td>\n",
       "      <td>1900</td>\n",
       "      <td>8951</td>\n",
       "      <td>90933</td>\n",
       "      <td>46499.77796</td>\n",
       "      <td>21242.76532</td>\n",
       "      <td>0</td>\n",
       "      <td>85005</td>\n",
       "      <td>45722.75204</td>\n",
       "      <td>21880.23267</td>\n",
       "    </tr>\n",
       "    <tr>\n",
       "      <th>14997</th>\n",
       "      <td>27/10/2015 14:00</td>\n",
       "      <td>2015-10-27T14:00:31</td>\n",
       "      <td>./images2/StateLineWeir_20151027_Farrell_141.JPG</td>\n",
       "      <td>USGS</td>\n",
       "      <td>6674500</td>\n",
       "      <td>MDT</td>\n",
       "      <td>2.39</td>\n",
       "      <td>315.0</td>\n",
       "      <td>2020-03-11T16:27:45</td>\n",
       "      <td>4288</td>\n",
       "      <td>...</td>\n",
       "      <td>2174</td>\n",
       "      <td>1900</td>\n",
       "      <td>9961</td>\n",
       "      <td>88893</td>\n",
       "      <td>43632.52898</td>\n",
       "      <td>19680.33833</td>\n",
       "      <td>0</td>\n",
       "      <td>80080</td>\n",
       "      <td>42863.85481</td>\n",
       "      <td>20255.00800</td>\n",
       "    </tr>\n",
       "    <tr>\n",
       "      <th>14998</th>\n",
       "      <td>27/10/2015 15:00</td>\n",
       "      <td>2015-10-27T15:00:31</td>\n",
       "      <td>./images2/StateLineWeir_20151027_Farrell_142.JPG</td>\n",
       "      <td>USGS</td>\n",
       "      <td>6674500</td>\n",
       "      <td>MDT</td>\n",
       "      <td>2.40</td>\n",
       "      <td>322.0</td>\n",
       "      <td>2020-03-11T16:27:46</td>\n",
       "      <td>4288</td>\n",
       "      <td>...</td>\n",
       "      <td>2182</td>\n",
       "      <td>1900</td>\n",
       "      <td>8726</td>\n",
       "      <td>85864</td>\n",
       "      <td>40790.39935</td>\n",
       "      <td>18380.64375</td>\n",
       "      <td>0</td>\n",
       "      <td>80823</td>\n",
       "      <td>40021.98209</td>\n",
       "      <td>18806.35874</td>\n",
       "    </tr>\n",
       "  </tbody>\n",
       "</table>\n",
       "<p>14999 rows × 59 columns</p>\n",
       "</div>"
      ],
      "text/plain": [
       "             SensorTime          CaptureTime  \\\n",
       "0      09/06/2012 13:15  2012-06-09T13:09:07   \n",
       "1      09/06/2012 13:15  2012-06-09T13:10:29   \n",
       "2      09/06/2012 13:45  2012-06-09T13:44:01   \n",
       "3      09/06/2012 14:45  2012-06-09T14:44:30   \n",
       "4      09/06/2012 15:45  2012-06-09T15:44:59   \n",
       "...                 ...                  ...   \n",
       "14994  27/10/2015 11:00  2015-10-27T11:00:30   \n",
       "14995  27/10/2015 12:00  2015-10-27T12:00:31   \n",
       "14996  27/10/2015 13:00  2015-10-27T13:00:31   \n",
       "14997  27/10/2015 14:00  2015-10-27T14:00:31   \n",
       "14998  27/10/2015 15:00  2015-10-27T15:00:31   \n",
       "\n",
       "                                               Filename  Agency   SiteNumber  \\\n",
       "0      ./images2/StateLineWeir_20120609_Farrell_001.jpg    USGS      6674500   \n",
       "1      ./images2/StateLineWeir_20120609_Farrell_002.jpg    USGS      6674500   \n",
       "2      ./images2/StateLineWeir_20120609_Farrell_003.jpg    USGS      6674500   \n",
       "3      ./images2/StateLineWeir_20120609_Farrell_004.jpg    USGS      6674500   \n",
       "4      ./images2/StateLineWeir_20120609_Farrell_005.jpg    USGS      6674500   \n",
       "...                                                 ...     ...          ...   \n",
       "14994  ./images2/StateLineWeir_20151027_Farrell_138.JPG    USGS      6674500   \n",
       "14995  ./images2/StateLineWeir_20151027_Farrell_139.JPG    USGS      6674500   \n",
       "14996  ./images2/StateLineWeir_20151027_Farrell_140.JPG    USGS      6674500   \n",
       "14997  ./images2/StateLineWeir_20151027_Farrell_141.JPG    USGS      6674500   \n",
       "14998  ./images2/StateLineWeir_20151027_Farrell_142.JPG    USGS      6674500   \n",
       "\n",
       "       TimeZone   Stage   Discharge        CalcTimestamp   width  ...  \\\n",
       "0           MDT    2.99       916.0  2020-03-11T16:58:28    4288  ...   \n",
       "1           MDT    2.99       916.0  2020-03-11T16:58:33    4288  ...   \n",
       "2           MDT    2.96       873.0  2020-03-11T16:58:40    4288  ...   \n",
       "3           MDT    2.94       846.0  2020-03-11T16:58:47    4288  ...   \n",
       "4           MDT    2.94       846.0  2020-03-11T16:58:55    4288  ...   \n",
       "...         ...     ...         ...                  ...     ...  ...   \n",
       "14994       MDT    2.40       322.0  2020-03-11T16:27:40    4288  ...   \n",
       "14995       MDT    2.39       315.0  2020-03-11T16:27:42    4288  ...   \n",
       "14996       MDT    2.40       322.0  2020-03-11T16:27:43    4288  ...   \n",
       "14997       MDT    2.39       315.0  2020-03-11T16:27:45    4288  ...   \n",
       "14998       MDT    2.40       322.0  2020-03-11T16:27:46    4288  ...   \n",
       "\n",
       "        WeirPt2X   WeirPt2Y   WwRawLineMin   WwRawLineMax   WwRawLineMean  \\\n",
       "0             -1         -1              0              0         0.00000   \n",
       "1             -1         -1              0              0         0.00000   \n",
       "2             -1         -1              0              0         0.00000   \n",
       "3             -1         -1              0              0         0.00000   \n",
       "4             -1         -1              0              0         0.00000   \n",
       "...          ...        ...            ...            ...             ...   \n",
       "14994       2186       1900           7751          85919     42249.76797   \n",
       "14995       2197       1900              0          81792     39043.91375   \n",
       "14996       2179       1900           8951          90933     46499.77796   \n",
       "14997       2174       1900           9961          88893     43632.52898   \n",
       "14998       2182       1900           8726          85864     40790.39935   \n",
       "\n",
       "        WwRawLineSigma   WwCurveLineMin   WwCurveLineMax   WwCurveLineMean  \\\n",
       "0              0.00000                0                0           0.00000   \n",
       "1              0.00000                0                0           0.00000   \n",
       "2              0.00000                0                0           0.00000   \n",
       "3              0.00000                0                0           0.00000   \n",
       "4              0.00000                0                0           0.00000   \n",
       "...                ...              ...              ...               ...   \n",
       "14994      19871.28279                0            77000       41574.38204   \n",
       "14995      19323.98869                0            76047       38548.37317   \n",
       "14996      21242.76532                0            85005       45722.75204   \n",
       "14997      19680.33833                0            80080       42863.85481   \n",
       "14998      18380.64375                0            80823       40021.98209   \n",
       "\n",
       "        WwCurveLineSigma  \n",
       "0                0.00000  \n",
       "1                0.00000  \n",
       "2                0.00000  \n",
       "3                0.00000  \n",
       "4                0.00000  \n",
       "...                  ...  \n",
       "14994        20332.52069  \n",
       "14995        19516.57002  \n",
       "14996        21880.23267  \n",
       "14997        20255.00800  \n",
       "14998        18806.35874  \n",
       "\n",
       "[14999 rows x 59 columns]"
      ]
     },
     "execution_count": 3,
     "metadata": {},
     "output_type": "execute_result"
    }
   ],
   "source": [
    "dfTrain"
   ]
  },
  {
   "cell_type": "code",
   "execution_count": 4,
   "metadata": {},
   "outputs": [
    {
     "data": {
      "text/html": [
       "<div>\n",
       "<style scoped>\n",
       "    .dataframe tbody tr th:only-of-type {\n",
       "        vertical-align: middle;\n",
       "    }\n",
       "\n",
       "    .dataframe tbody tr th {\n",
       "        vertical-align: top;\n",
       "    }\n",
       "\n",
       "    .dataframe thead th {\n",
       "        text-align: right;\n",
       "    }\n",
       "</style>\n",
       "<table border=\"1\" class=\"dataframe\">\n",
       "  <thead>\n",
       "    <tr style=\"text-align: right;\">\n",
       "      <th></th>\n",
       "      <th>SensorTime</th>\n",
       "      <th>CaptureTime</th>\n",
       "      <th>Filename</th>\n",
       "      <th>Agency</th>\n",
       "      <th>SiteNumber</th>\n",
       "      <th>TimeZone</th>\n",
       "      <th>Stage</th>\n",
       "      <th>Discharge</th>\n",
       "      <th>CalcTimestamp</th>\n",
       "      <th>width</th>\n",
       "      <th>...</th>\n",
       "      <th>WeirPt2X</th>\n",
       "      <th>WeirPt2Y</th>\n",
       "      <th>WwRawLineMin</th>\n",
       "      <th>WwRawLineMax</th>\n",
       "      <th>WwRawLineMean</th>\n",
       "      <th>WwRawLineSigma</th>\n",
       "      <th>WwCurveLineMin</th>\n",
       "      <th>WwCurveLineMax</th>\n",
       "      <th>WwCurveLineMean</th>\n",
       "      <th>WwCurveLineSigma</th>\n",
       "    </tr>\n",
       "  </thead>\n",
       "  <tbody>\n",
       "    <tr>\n",
       "      <th>0</th>\n",
       "      <td>01/07/2017 07:00</td>\n",
       "      <td>2017-07-01T07:00:13</td>\n",
       "      <td>./images2/StateLineWeir_20170701_Farrell_339.jpg</td>\n",
       "      <td>USGS</td>\n",
       "      <td>6674500</td>\n",
       "      <td>MDT</td>\n",
       "      <td>3.34</td>\n",
       "      <td>1310.0</td>\n",
       "      <td>2020-03-12T07:46:16</td>\n",
       "      <td>4288</td>\n",
       "      <td>...</td>\n",
       "      <td>2216</td>\n",
       "      <td>1900</td>\n",
       "      <td>0</td>\n",
       "      <td>118951</td>\n",
       "      <td>24031.15397</td>\n",
       "      <td>32991.69730</td>\n",
       "      <td>0</td>\n",
       "      <td>111079</td>\n",
       "      <td>23016.60817</td>\n",
       "      <td>32400.65323</td>\n",
       "    </tr>\n",
       "    <tr>\n",
       "      <th>1</th>\n",
       "      <td>01/07/2017 08:00</td>\n",
       "      <td>2017-07-01T08:00:13</td>\n",
       "      <td>./images2/StateLineWeir_20170701_Farrell_340.jpg</td>\n",
       "      <td>USGS</td>\n",
       "      <td>6674500</td>\n",
       "      <td>MDT</td>\n",
       "      <td>3.35</td>\n",
       "      <td>1330.0</td>\n",
       "      <td>2020-03-12T07:46:17</td>\n",
       "      <td>4288</td>\n",
       "      <td>...</td>\n",
       "      <td>2152</td>\n",
       "      <td>1900</td>\n",
       "      <td>0</td>\n",
       "      <td>108730</td>\n",
       "      <td>47314.66911</td>\n",
       "      <td>32632.78173</td>\n",
       "      <td>0</td>\n",
       "      <td>102392</td>\n",
       "      <td>46500.21987</td>\n",
       "      <td>32776.58187</td>\n",
       "    </tr>\n",
       "    <tr>\n",
       "      <th>2</th>\n",
       "      <td>01/07/2017 09:00</td>\n",
       "      <td>2017-07-01T09:00:13</td>\n",
       "      <td>./images2/StateLineWeir_20170701_Farrell_341.jpg</td>\n",
       "      <td>USGS</td>\n",
       "      <td>6674500</td>\n",
       "      <td>MDT</td>\n",
       "      <td>3.35</td>\n",
       "      <td>1330.0</td>\n",
       "      <td>2020-03-12T07:46:18</td>\n",
       "      <td>4288</td>\n",
       "      <td>...</td>\n",
       "      <td>2168</td>\n",
       "      <td>1900</td>\n",
       "      <td>189</td>\n",
       "      <td>108271</td>\n",
       "      <td>47657.05921</td>\n",
       "      <td>22610.76375</td>\n",
       "      <td>0</td>\n",
       "      <td>97734</td>\n",
       "      <td>46962.22690</td>\n",
       "      <td>22684.08557</td>\n",
       "    </tr>\n",
       "    <tr>\n",
       "      <th>3</th>\n",
       "      <td>01/07/2017 10:00</td>\n",
       "      <td>2017-07-01T10:00:13</td>\n",
       "      <td>./images2/StateLineWeir_20170701_Farrell_342.jpg</td>\n",
       "      <td>USGS</td>\n",
       "      <td>6674500</td>\n",
       "      <td>MDT</td>\n",
       "      <td>3.35</td>\n",
       "      <td>1330.0</td>\n",
       "      <td>2020-03-12T07:46:20</td>\n",
       "      <td>4288</td>\n",
       "      <td>...</td>\n",
       "      <td>2161</td>\n",
       "      <td>1900</td>\n",
       "      <td>602</td>\n",
       "      <td>93923</td>\n",
       "      <td>49484.22384</td>\n",
       "      <td>21776.86379</td>\n",
       "      <td>0</td>\n",
       "      <td>89973</td>\n",
       "      <td>48809.44490</td>\n",
       "      <td>21698.00197</td>\n",
       "    </tr>\n",
       "    <tr>\n",
       "      <th>4</th>\n",
       "      <td>01/07/2017 11:00</td>\n",
       "      <td>2017-07-01T11:00:13</td>\n",
       "      <td>./images2/StateLineWeir_20170701_Farrell_343.jpg</td>\n",
       "      <td>USGS</td>\n",
       "      <td>6674500</td>\n",
       "      <td>MDT</td>\n",
       "      <td>3.35</td>\n",
       "      <td>1330.0</td>\n",
       "      <td>2020-03-12T07:46:21</td>\n",
       "      <td>4288</td>\n",
       "      <td>...</td>\n",
       "      <td>2139</td>\n",
       "      <td>1900</td>\n",
       "      <td>0</td>\n",
       "      <td>110407</td>\n",
       "      <td>48964.80114</td>\n",
       "      <td>23435.20866</td>\n",
       "      <td>0</td>\n",
       "      <td>103658</td>\n",
       "      <td>48311.45114</td>\n",
       "      <td>23283.27182</td>\n",
       "    </tr>\n",
       "    <tr>\n",
       "      <th>...</th>\n",
       "      <td>...</td>\n",
       "      <td>...</td>\n",
       "      <td>...</td>\n",
       "      <td>...</td>\n",
       "      <td>...</td>\n",
       "      <td>...</td>\n",
       "      <td>...</td>\n",
       "      <td>...</td>\n",
       "      <td>...</td>\n",
       "      <td>...</td>\n",
       "      <td>...</td>\n",
       "      <td>...</td>\n",
       "      <td>...</td>\n",
       "      <td>...</td>\n",
       "      <td>...</td>\n",
       "      <td>...</td>\n",
       "      <td>...</td>\n",
       "      <td>...</td>\n",
       "      <td>...</td>\n",
       "      <td>...</td>\n",
       "      <td>...</td>\n",
       "    </tr>\n",
       "    <tr>\n",
       "      <th>8409</th>\n",
       "      <td>06/08/2018 17:15</td>\n",
       "      <td>2018-08-06T17:14:26</td>\n",
       "      <td>./images2/StateLineWeir_20180806_Farrell_963.jpg</td>\n",
       "      <td>USGS</td>\n",
       "      <td>6674500</td>\n",
       "      <td>MDT</td>\n",
       "      <td>3.27</td>\n",
       "      <td>1270.0</td>\n",
       "      <td>2020-03-12T11:42:55</td>\n",
       "      <td>4288</td>\n",
       "      <td>...</td>\n",
       "      <td>2128</td>\n",
       "      <td>1900</td>\n",
       "      <td>2787</td>\n",
       "      <td>76986</td>\n",
       "      <td>37702.65298</td>\n",
       "      <td>17621.87416</td>\n",
       "      <td>0</td>\n",
       "      <td>70569</td>\n",
       "      <td>36880.54063</td>\n",
       "      <td>17697.64381</td>\n",
       "    </tr>\n",
       "    <tr>\n",
       "      <th>8410</th>\n",
       "      <td>06/08/2018 17:30</td>\n",
       "      <td>2018-08-06T17:29:27</td>\n",
       "      <td>./images2/StateLineWeir_20180806_Farrell_964.jpg</td>\n",
       "      <td>USGS</td>\n",
       "      <td>6674500</td>\n",
       "      <td>MDT</td>\n",
       "      <td>3.27</td>\n",
       "      <td>1270.0</td>\n",
       "      <td>2020-03-12T11:42:56</td>\n",
       "      <td>4288</td>\n",
       "      <td>...</td>\n",
       "      <td>2105</td>\n",
       "      <td>1900</td>\n",
       "      <td>614</td>\n",
       "      <td>77278</td>\n",
       "      <td>35588.55997</td>\n",
       "      <td>17940.82140</td>\n",
       "      <td>0</td>\n",
       "      <td>67295</td>\n",
       "      <td>35254.14818</td>\n",
       "      <td>17593.48889</td>\n",
       "    </tr>\n",
       "    <tr>\n",
       "      <th>8411</th>\n",
       "      <td>06/08/2018 17:45</td>\n",
       "      <td>2018-08-06T17:44:27</td>\n",
       "      <td>./images2/StateLineWeir_20180806_Farrell_965.jpg</td>\n",
       "      <td>USGS</td>\n",
       "      <td>6674500</td>\n",
       "      <td>MDT</td>\n",
       "      <td>3.27</td>\n",
       "      <td>1270.0</td>\n",
       "      <td>2020-03-12T11:42:57</td>\n",
       "      <td>4288</td>\n",
       "      <td>...</td>\n",
       "      <td>2123</td>\n",
       "      <td>1900</td>\n",
       "      <td>0</td>\n",
       "      <td>69390</td>\n",
       "      <td>28022.25424</td>\n",
       "      <td>19240.97913</td>\n",
       "      <td>0</td>\n",
       "      <td>66111</td>\n",
       "      <td>27651.99032</td>\n",
       "      <td>18904.67830</td>\n",
       "    </tr>\n",
       "    <tr>\n",
       "      <th>8412</th>\n",
       "      <td>06/08/2018 18:00</td>\n",
       "      <td>2018-08-06T17:59:27</td>\n",
       "      <td>./images2/StateLineWeir_20180806_Farrell_966.jpg</td>\n",
       "      <td>USGS</td>\n",
       "      <td>6674500</td>\n",
       "      <td>MDT</td>\n",
       "      <td>3.27</td>\n",
       "      <td>1270.0</td>\n",
       "      <td>2020-03-12T11:46:16</td>\n",
       "      <td>4288</td>\n",
       "      <td>...</td>\n",
       "      <td>2111</td>\n",
       "      <td>1900</td>\n",
       "      <td>2868</td>\n",
       "      <td>66550</td>\n",
       "      <td>32742.68957</td>\n",
       "      <td>15239.70813</td>\n",
       "      <td>0</td>\n",
       "      <td>58260</td>\n",
       "      <td>32133.49838</td>\n",
       "      <td>15284.01612</td>\n",
       "    </tr>\n",
       "    <tr>\n",
       "      <th>8413</th>\n",
       "      <td>06/08/2018 18:15</td>\n",
       "      <td>2018-08-06T18:14:26</td>\n",
       "      <td>./images2/StateLineWeir_20180806_Farrell_967.jpg</td>\n",
       "      <td>USGS</td>\n",
       "      <td>6674500</td>\n",
       "      <td>MDT</td>\n",
       "      <td>3.27</td>\n",
       "      <td>1270.0</td>\n",
       "      <td>2020-03-12T11:42:37</td>\n",
       "      <td>4288</td>\n",
       "      <td>...</td>\n",
       "      <td>2123</td>\n",
       "      <td>1900</td>\n",
       "      <td>2520</td>\n",
       "      <td>64810</td>\n",
       "      <td>32484.54677</td>\n",
       "      <td>14656.04770</td>\n",
       "      <td>0</td>\n",
       "      <td>53790</td>\n",
       "      <td>31649.80741</td>\n",
       "      <td>14833.96475</td>\n",
       "    </tr>\n",
       "  </tbody>\n",
       "</table>\n",
       "<p>8414 rows × 59 columns</p>\n",
       "</div>"
      ],
      "text/plain": [
       "            SensorTime          CaptureTime  \\\n",
       "0     01/07/2017 07:00  2017-07-01T07:00:13   \n",
       "1     01/07/2017 08:00  2017-07-01T08:00:13   \n",
       "2     01/07/2017 09:00  2017-07-01T09:00:13   \n",
       "3     01/07/2017 10:00  2017-07-01T10:00:13   \n",
       "4     01/07/2017 11:00  2017-07-01T11:00:13   \n",
       "...                ...                  ...   \n",
       "8409  06/08/2018 17:15  2018-08-06T17:14:26   \n",
       "8410  06/08/2018 17:30  2018-08-06T17:29:27   \n",
       "8411  06/08/2018 17:45  2018-08-06T17:44:27   \n",
       "8412  06/08/2018 18:00  2018-08-06T17:59:27   \n",
       "8413  06/08/2018 18:15  2018-08-06T18:14:26   \n",
       "\n",
       "                                              Filename  Agency   SiteNumber  \\\n",
       "0     ./images2/StateLineWeir_20170701_Farrell_339.jpg    USGS      6674500   \n",
       "1     ./images2/StateLineWeir_20170701_Farrell_340.jpg    USGS      6674500   \n",
       "2     ./images2/StateLineWeir_20170701_Farrell_341.jpg    USGS      6674500   \n",
       "3     ./images2/StateLineWeir_20170701_Farrell_342.jpg    USGS      6674500   \n",
       "4     ./images2/StateLineWeir_20170701_Farrell_343.jpg    USGS      6674500   \n",
       "...                                                ...     ...          ...   \n",
       "8409  ./images2/StateLineWeir_20180806_Farrell_963.jpg    USGS      6674500   \n",
       "8410  ./images2/StateLineWeir_20180806_Farrell_964.jpg    USGS      6674500   \n",
       "8411  ./images2/StateLineWeir_20180806_Farrell_965.jpg    USGS      6674500   \n",
       "8412  ./images2/StateLineWeir_20180806_Farrell_966.jpg    USGS      6674500   \n",
       "8413  ./images2/StateLineWeir_20180806_Farrell_967.jpg    USGS      6674500   \n",
       "\n",
       "      TimeZone   Stage   Discharge        CalcTimestamp   width  ...  \\\n",
       "0          MDT    3.34      1310.0  2020-03-12T07:46:16    4288  ...   \n",
       "1          MDT    3.35      1330.0  2020-03-12T07:46:17    4288  ...   \n",
       "2          MDT    3.35      1330.0  2020-03-12T07:46:18    4288  ...   \n",
       "3          MDT    3.35      1330.0  2020-03-12T07:46:20    4288  ...   \n",
       "4          MDT    3.35      1330.0  2020-03-12T07:46:21    4288  ...   \n",
       "...        ...     ...         ...                  ...     ...  ...   \n",
       "8409       MDT    3.27      1270.0  2020-03-12T11:42:55    4288  ...   \n",
       "8410       MDT    3.27      1270.0  2020-03-12T11:42:56    4288  ...   \n",
       "8411       MDT    3.27      1270.0  2020-03-12T11:42:57    4288  ...   \n",
       "8412       MDT    3.27      1270.0  2020-03-12T11:46:16    4288  ...   \n",
       "8413       MDT    3.27      1270.0  2020-03-12T11:42:37    4288  ...   \n",
       "\n",
       "       WeirPt2X   WeirPt2Y   WwRawLineMin   WwRawLineMax   WwRawLineMean  \\\n",
       "0          2216       1900              0         118951     24031.15397   \n",
       "1          2152       1900              0         108730     47314.66911   \n",
       "2          2168       1900            189         108271     47657.05921   \n",
       "3          2161       1900            602          93923     49484.22384   \n",
       "4          2139       1900              0         110407     48964.80114   \n",
       "...         ...        ...            ...            ...             ...   \n",
       "8409       2128       1900           2787          76986     37702.65298   \n",
       "8410       2105       1900            614          77278     35588.55997   \n",
       "8411       2123       1900              0          69390     28022.25424   \n",
       "8412       2111       1900           2868          66550     32742.68957   \n",
       "8413       2123       1900           2520          64810     32484.54677   \n",
       "\n",
       "       WwRawLineSigma   WwCurveLineMin   WwCurveLineMax   WwCurveLineMean  \\\n",
       "0         32991.69730                0           111079       23016.60817   \n",
       "1         32632.78173                0           102392       46500.21987   \n",
       "2         22610.76375                0            97734       46962.22690   \n",
       "3         21776.86379                0            89973       48809.44490   \n",
       "4         23435.20866                0           103658       48311.45114   \n",
       "...               ...              ...              ...               ...   \n",
       "8409      17621.87416                0            70569       36880.54063   \n",
       "8410      17940.82140                0            67295       35254.14818   \n",
       "8411      19240.97913                0            66111       27651.99032   \n",
       "8412      15239.70813                0            58260       32133.49838   \n",
       "8413      14656.04770                0            53790       31649.80741   \n",
       "\n",
       "       WwCurveLineSigma  \n",
       "0           32400.65323  \n",
       "1           32776.58187  \n",
       "2           22684.08557  \n",
       "3           21698.00197  \n",
       "4           23283.27182  \n",
       "...                 ...  \n",
       "8409        17697.64381  \n",
       "8410        17593.48889  \n",
       "8411        18904.67830  \n",
       "8412        15284.01612  \n",
       "8413        14833.96475  \n",
       "\n",
       "[8414 rows x 59 columns]"
      ]
     },
     "execution_count": 4,
     "metadata": {},
     "output_type": "execute_result"
    }
   ],
   "source": [
    "dfTest"
   ]
  },
  {
   "cell_type": "code",
   "execution_count": 5,
   "metadata": {
    "scrolled": true
   },
   "outputs": [
    {
     "data": {
      "text/html": [
       "<div>\n",
       "<style scoped>\n",
       "    .dataframe tbody tr th:only-of-type {\n",
       "        vertical-align: middle;\n",
       "    }\n",
       "\n",
       "    .dataframe tbody tr th {\n",
       "        vertical-align: top;\n",
       "    }\n",
       "\n",
       "    .dataframe thead th {\n",
       "        text-align: right;\n",
       "    }\n",
       "</style>\n",
       "<table border=\"1\" class=\"dataframe\">\n",
       "  <thead>\n",
       "    <tr style=\"text-align: right;\">\n",
       "      <th></th>\n",
       "      <th>SensorTime</th>\n",
       "      <th>CaptureTime</th>\n",
       "      <th>Filename</th>\n",
       "      <th>Agency</th>\n",
       "      <th>SiteNumber</th>\n",
       "      <th>TimeZone</th>\n",
       "      <th>Stage</th>\n",
       "      <th>Discharge</th>\n",
       "      <th>CalcTimestamp</th>\n",
       "      <th>width</th>\n",
       "      <th>...</th>\n",
       "      <th>WeirPt2X</th>\n",
       "      <th>WeirPt2Y</th>\n",
       "      <th>WwRawLineMin</th>\n",
       "      <th>WwRawLineMax</th>\n",
       "      <th>WwRawLineMean</th>\n",
       "      <th>WwRawLineSigma</th>\n",
       "      <th>WwCurveLineMin</th>\n",
       "      <th>WwCurveLineMax</th>\n",
       "      <th>WwCurveLineMean</th>\n",
       "      <th>WwCurveLineSigma</th>\n",
       "    </tr>\n",
       "  </thead>\n",
       "  <tbody>\n",
       "    <tr>\n",
       "      <th>0</th>\n",
       "      <td>06/08/2018 18:30</td>\n",
       "      <td>2018-08-06T18:29:27</td>\n",
       "      <td>./images2/StateLineWeir_20180806_Farrell_968.jpg</td>\n",
       "      <td>USGS</td>\n",
       "      <td>6674500</td>\n",
       "      <td>MDT</td>\n",
       "      <td>3.27</td>\n",
       "      <td>1270.0</td>\n",
       "      <td>2020-03-12T11:42:38</td>\n",
       "      <td>4288</td>\n",
       "      <td>...</td>\n",
       "      <td>2118</td>\n",
       "      <td>1900</td>\n",
       "      <td>2647</td>\n",
       "      <td>68573</td>\n",
       "      <td>29938.21890</td>\n",
       "      <td>14338.75150</td>\n",
       "      <td>0</td>\n",
       "      <td>57396</td>\n",
       "      <td>29347.72155</td>\n",
       "      <td>14364.41965</td>\n",
       "    </tr>\n",
       "    <tr>\n",
       "      <th>1</th>\n",
       "      <td>06/08/2018 18:45</td>\n",
       "      <td>2018-08-06T18:44:27</td>\n",
       "      <td>./images2/StateLineWeir_20180806_Farrell_969.jpg</td>\n",
       "      <td>USGS</td>\n",
       "      <td>6674500</td>\n",
       "      <td>MDT</td>\n",
       "      <td>3.27</td>\n",
       "      <td>1270.0</td>\n",
       "      <td>2020-03-12T11:42:39</td>\n",
       "      <td>4288</td>\n",
       "      <td>...</td>\n",
       "      <td>2115</td>\n",
       "      <td>1900</td>\n",
       "      <td>1594</td>\n",
       "      <td>61068</td>\n",
       "      <td>29081.54089</td>\n",
       "      <td>13143.59083</td>\n",
       "      <td>0</td>\n",
       "      <td>53592</td>\n",
       "      <td>28529.97492</td>\n",
       "      <td>13182.20786</td>\n",
       "    </tr>\n",
       "    <tr>\n",
       "      <th>2</th>\n",
       "      <td>07/08/2018 05:00</td>\n",
       "      <td>2018-08-07T04:59:27</td>\n",
       "      <td>./images2/StateLineWeir_20180807_Farrell_971.jpg</td>\n",
       "      <td>USGS</td>\n",
       "      <td>6674500</td>\n",
       "      <td>MDT</td>\n",
       "      <td>3.26</td>\n",
       "      <td>1250.0</td>\n",
       "      <td>2020-03-12T11:42:40</td>\n",
       "      <td>4288</td>\n",
       "      <td>...</td>\n",
       "      <td>2124</td>\n",
       "      <td>1900</td>\n",
       "      <td>433</td>\n",
       "      <td>76769</td>\n",
       "      <td>35946.78884</td>\n",
       "      <td>19340.13195</td>\n",
       "      <td>0</td>\n",
       "      <td>73218</td>\n",
       "      <td>35227.00889</td>\n",
       "      <td>19543.47261</td>\n",
       "    </tr>\n",
       "    <tr>\n",
       "      <th>3</th>\n",
       "      <td>07/08/2018 06:15</td>\n",
       "      <td>2018-08-07T06:14:27</td>\n",
       "      <td>./images2/StateLineWeir_20180807_Farrell_976.jpg</td>\n",
       "      <td>USGS</td>\n",
       "      <td>6674500</td>\n",
       "      <td>MDT</td>\n",
       "      <td>3.26</td>\n",
       "      <td>1250.0</td>\n",
       "      <td>2020-03-12T11:42:42</td>\n",
       "      <td>4288</td>\n",
       "      <td>...</td>\n",
       "      <td>2108</td>\n",
       "      <td>1900</td>\n",
       "      <td>0</td>\n",
       "      <td>70237</td>\n",
       "      <td>31397.03249</td>\n",
       "      <td>18023.32419</td>\n",
       "      <td>0</td>\n",
       "      <td>63612</td>\n",
       "      <td>30729.80682</td>\n",
       "      <td>18171.12614</td>\n",
       "    </tr>\n",
       "    <tr>\n",
       "      <th>4</th>\n",
       "      <td>07/08/2018 06:30</td>\n",
       "      <td>2018-08-07T06:29:27</td>\n",
       "      <td>./images2/StateLineWeir_20180807_Farrell_977.jpg</td>\n",
       "      <td>USGS</td>\n",
       "      <td>6674500</td>\n",
       "      <td>MDT</td>\n",
       "      <td>3.26</td>\n",
       "      <td>1250.0</td>\n",
       "      <td>2020-03-12T11:42:43</td>\n",
       "      <td>4288</td>\n",
       "      <td>...</td>\n",
       "      <td>2138</td>\n",
       "      <td>1900</td>\n",
       "      <td>0</td>\n",
       "      <td>66076</td>\n",
       "      <td>32085.63358</td>\n",
       "      <td>18103.94446</td>\n",
       "      <td>0</td>\n",
       "      <td>60747</td>\n",
       "      <td>31372.90887</td>\n",
       "      <td>18170.61291</td>\n",
       "    </tr>\n",
       "    <tr>\n",
       "      <th>...</th>\n",
       "      <td>...</td>\n",
       "      <td>...</td>\n",
       "      <td>...</td>\n",
       "      <td>...</td>\n",
       "      <td>...</td>\n",
       "      <td>...</td>\n",
       "      <td>...</td>\n",
       "      <td>...</td>\n",
       "      <td>...</td>\n",
       "      <td>...</td>\n",
       "      <td>...</td>\n",
       "      <td>...</td>\n",
       "      <td>...</td>\n",
       "      <td>...</td>\n",
       "      <td>...</td>\n",
       "      <td>...</td>\n",
       "      <td>...</td>\n",
       "      <td>...</td>\n",
       "      <td>...</td>\n",
       "      <td>...</td>\n",
       "      <td>...</td>\n",
       "    </tr>\n",
       "    <tr>\n",
       "      <th>8406</th>\n",
       "      <td>11/10/2019 09:00</td>\n",
       "      <td>2019-10-11T08:59:53</td>\n",
       "      <td>./images2/StateLineWeir_20191011_Farrell_409.jpg</td>\n",
       "      <td>USGS</td>\n",
       "      <td>6674500</td>\n",
       "      <td>MDT</td>\n",
       "      <td>2.54</td>\n",
       "      <td>434.0</td>\n",
       "      <td>2020-03-12T16:23:53</td>\n",
       "      <td>4288</td>\n",
       "      <td>...</td>\n",
       "      <td>2446</td>\n",
       "      <td>1900</td>\n",
       "      <td>9284</td>\n",
       "      <td>77521</td>\n",
       "      <td>38385.37007</td>\n",
       "      <td>15952.02973</td>\n",
       "      <td>0</td>\n",
       "      <td>70085</td>\n",
       "      <td>37550.89482</td>\n",
       "      <td>16444.40121</td>\n",
       "    </tr>\n",
       "    <tr>\n",
       "      <th>8407</th>\n",
       "      <td>11/10/2019 10:00</td>\n",
       "      <td>2019-10-11T09:59:52</td>\n",
       "      <td>./images2/StateLineWeir_20191011_Farrell_410.jpg</td>\n",
       "      <td>USGS</td>\n",
       "      <td>6674500</td>\n",
       "      <td>MDT</td>\n",
       "      <td>2.54</td>\n",
       "      <td>434.0</td>\n",
       "      <td>2020-03-12T16:23:54</td>\n",
       "      <td>4288</td>\n",
       "      <td>...</td>\n",
       "      <td>2440</td>\n",
       "      <td>1900</td>\n",
       "      <td>10092</td>\n",
       "      <td>74614</td>\n",
       "      <td>40162.98929</td>\n",
       "      <td>15467.70886</td>\n",
       "      <td>0</td>\n",
       "      <td>70061</td>\n",
       "      <td>39397.33910</td>\n",
       "      <td>16009.00805</td>\n",
       "    </tr>\n",
       "    <tr>\n",
       "      <th>8408</th>\n",
       "      <td>11/10/2019 11:00</td>\n",
       "      <td>2019-10-11T10:59:52</td>\n",
       "      <td>./images2/StateLineWeir_20191011_Farrell_411.jpg</td>\n",
       "      <td>USGS</td>\n",
       "      <td>6674500</td>\n",
       "      <td>MDT</td>\n",
       "      <td>2.54</td>\n",
       "      <td>434.0</td>\n",
       "      <td>2020-03-12T16:23:55</td>\n",
       "      <td>4288</td>\n",
       "      <td>...</td>\n",
       "      <td>2447</td>\n",
       "      <td>1900</td>\n",
       "      <td>7067</td>\n",
       "      <td>83260</td>\n",
       "      <td>42095.94659</td>\n",
       "      <td>16770.35795</td>\n",
       "      <td>0</td>\n",
       "      <td>76335</td>\n",
       "      <td>41350.00657</td>\n",
       "      <td>17489.37462</td>\n",
       "    </tr>\n",
       "    <tr>\n",
       "      <th>8409</th>\n",
       "      <td>11/10/2019 12:00</td>\n",
       "      <td>2019-10-11T11:59:53</td>\n",
       "      <td>./images2/StateLineWeir_20191011_Farrell_412.jpg</td>\n",
       "      <td>USGS</td>\n",
       "      <td>6674500</td>\n",
       "      <td>MDT</td>\n",
       "      <td>2.54</td>\n",
       "      <td>434.0</td>\n",
       "      <td>2020-03-12T16:23:56</td>\n",
       "      <td>4288</td>\n",
       "      <td>...</td>\n",
       "      <td>2443</td>\n",
       "      <td>1900</td>\n",
       "      <td>6283</td>\n",
       "      <td>83045</td>\n",
       "      <td>45345.49095</td>\n",
       "      <td>17498.43285</td>\n",
       "      <td>0</td>\n",
       "      <td>78882</td>\n",
       "      <td>44553.92030</td>\n",
       "      <td>18268.29490</td>\n",
       "    </tr>\n",
       "    <tr>\n",
       "      <th>8410</th>\n",
       "      <td>11/10/2019 12:45</td>\n",
       "      <td>2019-10-11T12:59:52</td>\n",
       "      <td>./images2/StateLineWeir_20191011_Farrell_413.jpg</td>\n",
       "      <td>USGS</td>\n",
       "      <td>6674500</td>\n",
       "      <td>MDT</td>\n",
       "      <td>2.54</td>\n",
       "      <td>434.0</td>\n",
       "      <td>2020-03-12T16:23:58</td>\n",
       "      <td>4288</td>\n",
       "      <td>...</td>\n",
       "      <td>2436</td>\n",
       "      <td>1900</td>\n",
       "      <td>7375</td>\n",
       "      <td>89813</td>\n",
       "      <td>47877.87078</td>\n",
       "      <td>19963.16636</td>\n",
       "      <td>0</td>\n",
       "      <td>82630</td>\n",
       "      <td>47280.27056</td>\n",
       "      <td>20559.35877</td>\n",
       "    </tr>\n",
       "  </tbody>\n",
       "</table>\n",
       "<p>8411 rows × 59 columns</p>\n",
       "</div>"
      ],
      "text/plain": [
       "            SensorTime          CaptureTime  \\\n",
       "0     06/08/2018 18:30  2018-08-06T18:29:27   \n",
       "1     06/08/2018 18:45  2018-08-06T18:44:27   \n",
       "2     07/08/2018 05:00  2018-08-07T04:59:27   \n",
       "3     07/08/2018 06:15  2018-08-07T06:14:27   \n",
       "4     07/08/2018 06:30  2018-08-07T06:29:27   \n",
       "...                ...                  ...   \n",
       "8406  11/10/2019 09:00  2019-10-11T08:59:53   \n",
       "8407  11/10/2019 10:00  2019-10-11T09:59:52   \n",
       "8408  11/10/2019 11:00  2019-10-11T10:59:52   \n",
       "8409  11/10/2019 12:00  2019-10-11T11:59:53   \n",
       "8410  11/10/2019 12:45  2019-10-11T12:59:52   \n",
       "\n",
       "                                              Filename  Agency   SiteNumber  \\\n",
       "0     ./images2/StateLineWeir_20180806_Farrell_968.jpg    USGS      6674500   \n",
       "1     ./images2/StateLineWeir_20180806_Farrell_969.jpg    USGS      6674500   \n",
       "2     ./images2/StateLineWeir_20180807_Farrell_971.jpg    USGS      6674500   \n",
       "3     ./images2/StateLineWeir_20180807_Farrell_976.jpg    USGS      6674500   \n",
       "4     ./images2/StateLineWeir_20180807_Farrell_977.jpg    USGS      6674500   \n",
       "...                                                ...     ...          ...   \n",
       "8406  ./images2/StateLineWeir_20191011_Farrell_409.jpg    USGS      6674500   \n",
       "8407  ./images2/StateLineWeir_20191011_Farrell_410.jpg    USGS      6674500   \n",
       "8408  ./images2/StateLineWeir_20191011_Farrell_411.jpg    USGS      6674500   \n",
       "8409  ./images2/StateLineWeir_20191011_Farrell_412.jpg    USGS      6674500   \n",
       "8410  ./images2/StateLineWeir_20191011_Farrell_413.jpg    USGS      6674500   \n",
       "\n",
       "      TimeZone   Stage   Discharge        CalcTimestamp   width  ...  \\\n",
       "0          MDT    3.27      1270.0  2020-03-12T11:42:38    4288  ...   \n",
       "1          MDT    3.27      1270.0  2020-03-12T11:42:39    4288  ...   \n",
       "2          MDT    3.26      1250.0  2020-03-12T11:42:40    4288  ...   \n",
       "3          MDT    3.26      1250.0  2020-03-12T11:42:42    4288  ...   \n",
       "4          MDT    3.26      1250.0  2020-03-12T11:42:43    4288  ...   \n",
       "...        ...     ...         ...                  ...     ...  ...   \n",
       "8406       MDT    2.54       434.0  2020-03-12T16:23:53    4288  ...   \n",
       "8407       MDT    2.54       434.0  2020-03-12T16:23:54    4288  ...   \n",
       "8408       MDT    2.54       434.0  2020-03-12T16:23:55    4288  ...   \n",
       "8409       MDT    2.54       434.0  2020-03-12T16:23:56    4288  ...   \n",
       "8410       MDT    2.54       434.0  2020-03-12T16:23:58    4288  ...   \n",
       "\n",
       "       WeirPt2X   WeirPt2Y   WwRawLineMin   WwRawLineMax   WwRawLineMean  \\\n",
       "0          2118       1900           2647          68573     29938.21890   \n",
       "1          2115       1900           1594          61068     29081.54089   \n",
       "2          2124       1900            433          76769     35946.78884   \n",
       "3          2108       1900              0          70237     31397.03249   \n",
       "4          2138       1900              0          66076     32085.63358   \n",
       "...         ...        ...            ...            ...             ...   \n",
       "8406       2446       1900           9284          77521     38385.37007   \n",
       "8407       2440       1900          10092          74614     40162.98929   \n",
       "8408       2447       1900           7067          83260     42095.94659   \n",
       "8409       2443       1900           6283          83045     45345.49095   \n",
       "8410       2436       1900           7375          89813     47877.87078   \n",
       "\n",
       "       WwRawLineSigma   WwCurveLineMin   WwCurveLineMax   WwCurveLineMean  \\\n",
       "0         14338.75150                0            57396       29347.72155   \n",
       "1         13143.59083                0            53592       28529.97492   \n",
       "2         19340.13195                0            73218       35227.00889   \n",
       "3         18023.32419                0            63612       30729.80682   \n",
       "4         18103.94446                0            60747       31372.90887   \n",
       "...               ...              ...              ...               ...   \n",
       "8406      15952.02973                0            70085       37550.89482   \n",
       "8407      15467.70886                0            70061       39397.33910   \n",
       "8408      16770.35795                0            76335       41350.00657   \n",
       "8409      17498.43285                0            78882       44553.92030   \n",
       "8410      19963.16636                0            82630       47280.27056   \n",
       "\n",
       "       WwCurveLineSigma  \n",
       "0           14364.41965  \n",
       "1           13182.20786  \n",
       "2           19543.47261  \n",
       "3           18171.12614  \n",
       "4           18170.61291  \n",
       "...                 ...  \n",
       "8406        16444.40121  \n",
       "8407        16009.00805  \n",
       "8408        17489.37462  \n",
       "8409        18268.29490  \n",
       "8410        20559.35877  \n",
       "\n",
       "[8411 rows x 59 columns]"
      ]
     },
     "execution_count": 5,
     "metadata": {},
     "output_type": "execute_result"
    }
   ],
   "source": [
    "dfValidation"
   ]
  },
  {
   "cell_type": "code",
   "execution_count": 6,
   "metadata": {},
   "outputs": [],
   "source": [
    "from keras.utils import to_categorical\n",
    "\n",
    "model = Sequential([\n",
    "            Conv2D(32, (3,3), activation='linear'),\n",
    "            MaxPooling2D((2,2)),\n",
    "            Conv2D(64, (3,3), activation='linear'),\n",
    "            MaxPooling2D((2,2)),\n",
    "            Conv2D(128, (3,3), activation='linear'),\n",
    "            MaxPooling2D((2,2)),\n",
    "            Flatten(),\n",
    "            Dense(64, activation='linear'),\n",
    "            Dense(32, activation='linear'),\n",
    "            Dense(1, activation='linear')\n",
    "]) \n"
   ]
  },
  {
   "cell_type": "code",
   "execution_count": 7,
   "metadata": {},
   "outputs": [],
   "source": [
    "model.compile(optimizer='adam', metrics=['mae'], loss=\"mean_squared_error\",)"
   ]
  },
  {
   "cell_type": "code",
   "execution_count": 8,
   "metadata": {},
   "outputs": [
    {
     "name": "stdout",
     "output_type": "stream",
     "text": [
      "Found 14998 validated image filenames.\n"
     ]
    },
    {
     "name": "stderr",
     "output_type": "stream",
     "text": [
      "C:\\Users\\david\\miniconda3\\envs\\tf_2.4\\lib\\site-packages\\keras\\preprocessing\\image.py:1139: UserWarning: Found 1 invalid image filename(s) in x_col=\" Filename\". These filename(s) will be ignored.\n",
      "  warnings.warn(\n"
     ]
    },
    {
     "name": "stdout",
     "output_type": "stream",
     "text": [
      "Found 8414 validated image filenames.\n",
      "Found 8411 validated image filenames.\n"
     ]
    }
   ],
   "source": [
    "import math\n",
    "\n",
    "def to_grayscale_then_rgb(image):\n",
    "    image = tf.image.rgb_to_grayscale(image)\n",
    "    image = tf.image.grayscale_to_rgb(image)\n",
    "    return image\n",
    "\n",
    "generator = ImageDataGenerator(\n",
    "    rescale= 1. / 255,\n",
    "    preprocessing_function=to_grayscale_then_rgb\n",
    ")\n",
    "\n",
    "train = generator.flow_from_dataframe(\n",
    "    dataframe=dfTrain,\n",
    "    x_col=' Filename',\n",
    "    y_col=' Stage',\n",
    "    target_size=(512, 512),\n",
    "    batch_size=8, \n",
    "    class_mode='raw',\n",
    "    validate_filenames=True\n",
    ")\n",
    "\n",
    "test = generator.flow_from_dataframe(\n",
    "    dataframe=dfTest,\n",
    "    x_col=' Filename', \n",
    "    y_col=' Stage',\n",
    "    target_size=(512, 512),\n",
    "    batch_size=8,\n",
    "    class_mode='raw',\n",
    "    validate_filenames=True\n",
    ")\n",
    "\n",
    "validation = generator.flow_from_dataframe(\n",
    "    dataframe=dfValidation,\n",
    "    x_col=' Filename',\n",
    "    y_col=' Stage',\n",
    "    target_size=(512, 512), \n",
    "    batch_size=8, \n",
    "    class_mode='raw',\n",
    "    validate_filenames=True\n",
    ")\n",
    "\n",
    "#def crop_generator(batches):\n",
    "#    dx = 304\n",
    "#    dy = 304\n",
    "#    originSize = 512\n",
    "#    while True:\n",
    "#        batch_x, batch_y = next(batches)\n",
    "#        ratio = batch_x.shape[1] / originSize\n",
    "\n",
    "#        start_x= int(100 * ratio)\n",
    "#        end_x = start_x + math.floor(dx * ratio)\n",
    "\n",
    "#        start_y= int(145 * ratio)\n",
    "#        end_y = start_y + math.floor(dy * ratio)\n",
    "#        yield (batch_x[:, start_x:end_x, start_y:end_y, :], batch_y)\n",
    "\n",
    "#train_cropped = crop_generator(train)\n",
    "#test_cropped = crop_generator(test)\n",
    "#validation_cropped = crop_generator(validation)"
   ]
  },
  {
   "cell_type": "code",
   "execution_count": 9,
   "metadata": {
    "scrolled": false
   },
   "outputs": [
    {
     "name": "stdout",
     "output_type": "stream",
     "text": [
      "Epoch 1/5\n",
      "1875/1875 [==============================] - 437s 232ms/step - loss: 387.3504 - mae: 2.2383 - val_loss: 0.2121 - val_mae: 0.3784\n",
      "Epoch 2/5\n",
      "1875/1875 [==============================] - 357s 190ms/step - loss: 0.0761 - mae: 0.2156 - val_loss: 0.1184 - val_mae: 0.2725\n",
      "Epoch 3/5\n",
      "1875/1875 [==============================] - 369s 197ms/step - loss: 0.1721 - mae: 0.2954 - val_loss: 0.1935 - val_mae: 0.3622\n",
      "Epoch 4/5\n",
      "1875/1875 [==============================] - 362s 193ms/step - loss: 0.1052 - mae: 0.2398 - val_loss: 0.3849 - val_mae: 0.5228\n",
      "Epoch 5/5\n",
      "1875/1875 [==============================] - 366s 195ms/step - loss: 0.1126 - mae: 0.2571 - val_loss: 0.1327 - val_mae: 0.2774\n"
     ]
    }
   ],
   "source": [
    "history = model.fit(train, epochs=5, validation_data=validation)"
   ]
  },
  {
   "cell_type": "code",
   "execution_count": 10,
   "metadata": {},
   "outputs": [
    {
     "data": {
      "image/png": "[encoded data removed]",
      "text/plain": [
       "<Figure size 640x480 with 1 Axes>"
      ]
     },
     "metadata": {},
     "output_type": "display_data"
    },
    {
     "data": {
      "image/png": "[encoded data removed]",
      "text/plain": [
       "<Figure size 640x480 with 1 Axes>"
      ]
     },
     "metadata": {},
     "output_type": "display_data"
    }
   ],
   "source": [
    "acc = history.history['mae']\n",
    "val_acc = history.history['val_mae']\n",
    "epochs = range(len(acc))\n",
    "\n",
    "plt.plot(epochs, acc, 'b', label='Training MSE')\n",
    "plt.plot(epochs, val_acc, 'r', label='Validation MSE')\n",
    "plt.title('MSE Graph')\n",
    "plt.legend()\n",
    "plt.figure()\n",
    "\n",
    "loss = history.history['loss']\n",
    "val_loss = history.history['val_loss']\n",
    "plt.plot(epochs, loss, 'b', label='Training Loss')\n",
    "plt.plot(epochs, val_loss, 'r', label='Validation Loss')\n",
    "plt.title('Loss Graph')\n",
    "plt.legend()\n",
    "plt.show()"
   ]
  },
  {
   "cell_type": "code",
   "execution_count": 11,
   "metadata": {},
   "outputs": [
    {
     "name": "stdout",
     "output_type": "stream",
     "text": [
      "1052/1052 [==============================] - 143s 135ms/step\n"
     ]
    }
   ],
   "source": [
    "ypred1 = model.predict(test)"
   ]
  },
  {
   "cell_type": "code",
   "execution_count": 12,
   "metadata": {},
   "outputs": [
    {
     "name": "stdout",
     "output_type": "stream",
     "text": [
      "[3.55, 3.54, 3.49, 3.52]\n",
      "[array([2.6566885], dtype=float32), array([2.2263064], dtype=float32), array([2.70414], dtype=float32), array([2.101883], dtype=float32)]\n"
     ]
    }
   ],
   "source": [
    "predictions = []\n",
    "real_data = []\n",
    "for i in range(4):\n",
    "    index = random.randint(0, 1000)\n",
    "    real_data.append(dfTest.iloc[index][6])\n",
    "    predictions.append(ypred1[index])\n",
    "print(real_data)\n",
    "print(predictions)"
   ]
  },
  {
   "cell_type": "code",
   "execution_count": 4,
   "metadata": {},
   "outputs": [],
   "source": [
    "model2 = Sequential([\n",
    "            Conv2D(32, (3,3), activation='linear'),\n",
    "            MaxPooling2D((2,2)),\n",
    "            Conv2D(64, (3,3), activation='linear'),\n",
    "            MaxPooling2D((2,2)),\n",
    "            Conv2D(128, (3,3), activation='linear'),\n",
    "            MaxPooling2D((2,2)),\n",
    "            Flatten(),\n",
    "            Dense(64, activation='linear'),\n",
    "            Dense(32, activation='linear'),\n",
    "            Dense(1, activation='linear')\n",
    "]) \n"
   ]
  },
  {
   "cell_type": "code",
   "execution_count": 5,
   "metadata": {},
   "outputs": [],
   "source": [
    "model2.compile(optimizer='adam', metrics=['mae'], loss=\"mean_squared_error\",)"
   ]
  },
  {
   "cell_type": "code",
   "execution_count": 6,
   "metadata": {},
   "outputs": [
    {
     "name": "stdout",
     "output_type": "stream",
     "text": [
      "Found 14998 validated image filenames.\n"
     ]
    },
    {
     "name": "stderr",
     "output_type": "stream",
     "text": [
      "C:\\Users\\david\\miniconda3\\envs\\tf_2.4\\lib\\site-packages\\keras\\preprocessing\\image.py:1139: UserWarning: Found 1 invalid image filename(s) in x_col=\" Filename\". These filename(s) will be ignored.\n",
      "  warnings.warn(\n"
     ]
    },
    {
     "name": "stdout",
     "output_type": "stream",
     "text": [
      "Found 8414 validated image filenames.\n",
      "Found 8411 validated image filenames.\n"
     ]
    }
   ],
   "source": [
    "def to_grayscale_then_rgb(image):\n",
    "    image = tf.image.rgb_to_grayscale(image)\n",
    "    image = tf.image.grayscale_to_rgb(image)\n",
    "    return image\n",
    "\n",
    "generator = ImageDataGenerator(\n",
    "    rescale= 1. / 255,\n",
    "    preprocessing_function=to_grayscale_then_rgb\n",
    ")\n",
    "\n",
    "train = generator.flow_from_dataframe(\n",
    "    dataframe=dfTrain,\n",
    "    x_col=' Filename',\n",
    "    y_col=' Stage',\n",
    "    target_size=(512, 512),\n",
    "    batch_size=8, \n",
    "    class_mode='raw',\n",
    "    validate_filenames=True\n",
    ")\n",
    "\n",
    "test = generator.flow_from_dataframe(\n",
    "    dataframe=dfTest,\n",
    "    x_col=' Filename', \n",
    "    y_col=' Stage',\n",
    "    target_size=(512, 512),\n",
    "    batch_size=8,\n",
    "    class_mode='raw',\n",
    "    validate_filenames=True\n",
    ")\n",
    "\n",
    "validation = generator.flow_from_dataframe(\n",
    "    dataframe=dfValidation,\n",
    "    x_col=' Filename',\n",
    "    y_col=' Stage',\n",
    "    target_size=(512, 512), \n",
    "    batch_size=8, \n",
    "    class_mode='raw',\n",
    "    validate_filenames=True\n",
    ")"
   ]
  },
  {
   "cell_type": "code",
   "execution_count": 7,
   "metadata": {},
   "outputs": [
    {
     "name": "stdout",
     "output_type": "stream",
     "text": [
      "Epoch 1/5\n",
      " 746/1875 [==========>...................] - ETA: 3:11 - loss: 387.0274 - mae: 3.1995"
     ]
    },
    {
     "ename": "KeyboardInterrupt",
     "evalue": "",
     "output_type": "error",
     "traceback": [
      "\u001b[1;31m---------------------------------------------------------------------------\u001b[0m",
      "\u001b[1;31mKeyboardInterrupt\u001b[0m                         Traceback (most recent call last)",
      "Cell \u001b[1;32mIn [7], line 1\u001b[0m\n\u001b[1;32m----> 1\u001b[0m history \u001b[38;5;241m=\u001b[39m \u001b[43mmodel2\u001b[49m\u001b[38;5;241;43m.\u001b[39;49m\u001b[43mfit\u001b[49m\u001b[43m(\u001b[49m\u001b[43mtrain\u001b[49m\u001b[43m,\u001b[49m\u001b[43m \u001b[49m\u001b[43mepochs\u001b[49m\u001b[38;5;241;43m=\u001b[39;49m\u001b[38;5;241;43m5\u001b[39;49m\u001b[43m,\u001b[49m\u001b[43m \u001b[49m\u001b[43mvalidation_data\u001b[49m\u001b[38;5;241;43m=\u001b[39;49m\u001b[43mvalidation\u001b[49m\u001b[43m)\u001b[49m\n",
      "File \u001b[1;32m~\\miniconda3\\envs\\tf_2.4\\lib\\site-packages\\keras\\utils\\traceback_utils.py:65\u001b[0m, in \u001b[0;36mfilter_traceback.<locals>.error_handler\u001b[1;34m(*args, **kwargs)\u001b[0m\n\u001b[0;32m     63\u001b[0m filtered_tb \u001b[38;5;241m=\u001b[39m \u001b[38;5;28;01mNone\u001b[39;00m\n\u001b[0;32m     64\u001b[0m \u001b[38;5;28;01mtry\u001b[39;00m:\n\u001b[1;32m---> 65\u001b[0m     \u001b[38;5;28;01mreturn\u001b[39;00m \u001b[43mfn\u001b[49m\u001b[43m(\u001b[49m\u001b[38;5;241;43m*\u001b[39;49m\u001b[43margs\u001b[49m\u001b[43m,\u001b[49m\u001b[43m \u001b[49m\u001b[38;5;241;43m*\u001b[39;49m\u001b[38;5;241;43m*\u001b[39;49m\u001b[43mkwargs\u001b[49m\u001b[43m)\u001b[49m\n\u001b[0;32m     66\u001b[0m \u001b[38;5;28;01mexcept\u001b[39;00m \u001b[38;5;167;01mException\u001b[39;00m \u001b[38;5;28;01mas\u001b[39;00m e:\n\u001b[0;32m     67\u001b[0m     filtered_tb \u001b[38;5;241m=\u001b[39m _process_traceback_frames(e\u001b[38;5;241m.\u001b[39m__traceback__)\n",
      "File \u001b[1;32m~\\miniconda3\\envs\\tf_2.4\\lib\\site-packages\\keras\\engine\\training.py:1570\u001b[0m, in \u001b[0;36mModel.fit\u001b[1;34m(self, x, y, batch_size, epochs, verbose, callbacks, validation_split, validation_data, shuffle, class_weight, sample_weight, initial_epoch, steps_per_epoch, validation_steps, validation_batch_size, validation_freq, max_queue_size, workers, use_multiprocessing)\u001b[0m\n\u001b[0;32m   1568\u001b[0m logs \u001b[38;5;241m=\u001b[39m tmp_logs\n\u001b[0;32m   1569\u001b[0m end_step \u001b[38;5;241m=\u001b[39m step \u001b[38;5;241m+\u001b[39m data_handler\u001b[38;5;241m.\u001b[39mstep_increment\n\u001b[1;32m-> 1570\u001b[0m \u001b[43mcallbacks\u001b[49m\u001b[38;5;241;43m.\u001b[39;49m\u001b[43mon_train_batch_end\u001b[49m\u001b[43m(\u001b[49m\u001b[43mend_step\u001b[49m\u001b[43m,\u001b[49m\u001b[43m \u001b[49m\u001b[43mlogs\u001b[49m\u001b[43m)\u001b[49m\n\u001b[0;32m   1571\u001b[0m \u001b[38;5;28;01mif\u001b[39;00m \u001b[38;5;28mself\u001b[39m\u001b[38;5;241m.\u001b[39mstop_training:\n\u001b[0;32m   1572\u001b[0m     \u001b[38;5;28;01mbreak\u001b[39;00m\n",
      "File \u001b[1;32m~\\miniconda3\\envs\\tf_2.4\\lib\\site-packages\\keras\\callbacks.py:470\u001b[0m, in \u001b[0;36mCallbackList.on_train_batch_end\u001b[1;34m(self, batch, logs)\u001b[0m\n\u001b[0;32m    463\u001b[0m \u001b[38;5;124;03m\"\"\"Calls the `on_train_batch_end` methods of its callbacks.\u001b[39;00m\n\u001b[0;32m    464\u001b[0m \n\u001b[0;32m    465\u001b[0m \u001b[38;5;124;03mArgs:\u001b[39;00m\n\u001b[0;32m    466\u001b[0m \u001b[38;5;124;03m    batch: Integer, index of batch within the current epoch.\u001b[39;00m\n\u001b[0;32m    467\u001b[0m \u001b[38;5;124;03m    logs: Dict. Aggregated metric results up until this batch.\u001b[39;00m\n\u001b[0;32m    468\u001b[0m \u001b[38;5;124;03m\"\"\"\u001b[39;00m\n\u001b[0;32m    469\u001b[0m \u001b[38;5;28;01mif\u001b[39;00m \u001b[38;5;28mself\u001b[39m\u001b[38;5;241m.\u001b[39m_should_call_train_batch_hooks:\n\u001b[1;32m--> 470\u001b[0m     \u001b[38;5;28;43mself\u001b[39;49m\u001b[38;5;241;43m.\u001b[39;49m\u001b[43m_call_batch_hook\u001b[49m\u001b[43m(\u001b[49m\u001b[43mModeKeys\u001b[49m\u001b[38;5;241;43m.\u001b[39;49m\u001b[43mTRAIN\u001b[49m\u001b[43m,\u001b[49m\u001b[43m \u001b[49m\u001b[38;5;124;43m\"\u001b[39;49m\u001b[38;5;124;43mend\u001b[39;49m\u001b[38;5;124;43m\"\u001b[39;49m\u001b[43m,\u001b[49m\u001b[43m \u001b[49m\u001b[43mbatch\u001b[49m\u001b[43m,\u001b[49m\u001b[43m \u001b[49m\u001b[43mlogs\u001b[49m\u001b[38;5;241;43m=\u001b[39;49m\u001b[43mlogs\u001b[49m\u001b[43m)\u001b[49m\n",
      "File \u001b[1;32m~\\miniconda3\\envs\\tf_2.4\\lib\\site-packages\\keras\\callbacks.py:317\u001b[0m, in \u001b[0;36mCallbackList._call_batch_hook\u001b[1;34m(self, mode, hook, batch, logs)\u001b[0m\n\u001b[0;32m    315\u001b[0m     \u001b[38;5;28mself\u001b[39m\u001b[38;5;241m.\u001b[39m_call_batch_begin_hook(mode, batch, logs)\n\u001b[0;32m    316\u001b[0m \u001b[38;5;28;01melif\u001b[39;00m hook \u001b[38;5;241m==\u001b[39m \u001b[38;5;124m\"\u001b[39m\u001b[38;5;124mend\u001b[39m\u001b[38;5;124m\"\u001b[39m:\n\u001b[1;32m--> 317\u001b[0m     \u001b[38;5;28;43mself\u001b[39;49m\u001b[38;5;241;43m.\u001b[39;49m\u001b[43m_call_batch_end_hook\u001b[49m\u001b[43m(\u001b[49m\u001b[43mmode\u001b[49m\u001b[43m,\u001b[49m\u001b[43m \u001b[49m\u001b[43mbatch\u001b[49m\u001b[43m,\u001b[49m\u001b[43m \u001b[49m\u001b[43mlogs\u001b[49m\u001b[43m)\u001b[49m\n\u001b[0;32m    318\u001b[0m \u001b[38;5;28;01melse\u001b[39;00m:\n\u001b[0;32m    319\u001b[0m     \u001b[38;5;28;01mraise\u001b[39;00m \u001b[38;5;167;01mValueError\u001b[39;00m(\n\u001b[0;32m    320\u001b[0m         \u001b[38;5;124mf\u001b[39m\u001b[38;5;124m\"\u001b[39m\u001b[38;5;124mUnrecognized hook: \u001b[39m\u001b[38;5;132;01m{\u001b[39;00mhook\u001b[38;5;132;01m}\u001b[39;00m\u001b[38;5;124m. \u001b[39m\u001b[38;5;124m\"\u001b[39m\n\u001b[0;32m    321\u001b[0m         \u001b[38;5;124m'\u001b[39m\u001b[38;5;124mExpected values are [\u001b[39m\u001b[38;5;124m\"\u001b[39m\u001b[38;5;124mbegin\u001b[39m\u001b[38;5;124m\"\u001b[39m\u001b[38;5;124m, \u001b[39m\u001b[38;5;124m\"\u001b[39m\u001b[38;5;124mend\u001b[39m\u001b[38;5;124m\"\u001b[39m\u001b[38;5;124m]\u001b[39m\u001b[38;5;124m'\u001b[39m\n\u001b[0;32m    322\u001b[0m     )\n",
      "File \u001b[1;32m~\\miniconda3\\envs\\tf_2.4\\lib\\site-packages\\keras\\callbacks.py:340\u001b[0m, in \u001b[0;36mCallbackList._call_batch_end_hook\u001b[1;34m(self, mode, batch, logs)\u001b[0m\n\u001b[0;32m    337\u001b[0m     batch_time \u001b[38;5;241m=\u001b[39m time\u001b[38;5;241m.\u001b[39mtime() \u001b[38;5;241m-\u001b[39m \u001b[38;5;28mself\u001b[39m\u001b[38;5;241m.\u001b[39m_batch_start_time\n\u001b[0;32m    338\u001b[0m     \u001b[38;5;28mself\u001b[39m\u001b[38;5;241m.\u001b[39m_batch_times\u001b[38;5;241m.\u001b[39mappend(batch_time)\n\u001b[1;32m--> 340\u001b[0m \u001b[38;5;28;43mself\u001b[39;49m\u001b[38;5;241;43m.\u001b[39;49m\u001b[43m_call_batch_hook_helper\u001b[49m\u001b[43m(\u001b[49m\u001b[43mhook_name\u001b[49m\u001b[43m,\u001b[49m\u001b[43m \u001b[49m\u001b[43mbatch\u001b[49m\u001b[43m,\u001b[49m\u001b[43m \u001b[49m\u001b[43mlogs\u001b[49m\u001b[43m)\u001b[49m\n\u001b[0;32m    342\u001b[0m \u001b[38;5;28;01mif\u001b[39;00m \u001b[38;5;28mlen\u001b[39m(\u001b[38;5;28mself\u001b[39m\u001b[38;5;241m.\u001b[39m_batch_times) \u001b[38;5;241m>\u001b[39m\u001b[38;5;241m=\u001b[39m \u001b[38;5;28mself\u001b[39m\u001b[38;5;241m.\u001b[39m_num_batches_for_timing_check:\n\u001b[0;32m    343\u001b[0m     end_hook_name \u001b[38;5;241m=\u001b[39m hook_name\n",
      "File \u001b[1;32m~\\miniconda3\\envs\\tf_2.4\\lib\\site-packages\\keras\\callbacks.py:388\u001b[0m, in \u001b[0;36mCallbackList._call_batch_hook_helper\u001b[1;34m(self, hook_name, batch, logs)\u001b[0m\n\u001b[0;32m    386\u001b[0m \u001b[38;5;28;01mfor\u001b[39;00m callback \u001b[38;5;129;01min\u001b[39;00m \u001b[38;5;28mself\u001b[39m\u001b[38;5;241m.\u001b[39mcallbacks:\n\u001b[0;32m    387\u001b[0m     hook \u001b[38;5;241m=\u001b[39m \u001b[38;5;28mgetattr\u001b[39m(callback, hook_name)\n\u001b[1;32m--> 388\u001b[0m     \u001b[43mhook\u001b[49m\u001b[43m(\u001b[49m\u001b[43mbatch\u001b[49m\u001b[43m,\u001b[49m\u001b[43m \u001b[49m\u001b[43mlogs\u001b[49m\u001b[43m)\u001b[49m\n\u001b[0;32m    390\u001b[0m \u001b[38;5;28;01mif\u001b[39;00m \u001b[38;5;28mself\u001b[39m\u001b[38;5;241m.\u001b[39m_check_timing:\n\u001b[0;32m    391\u001b[0m     \u001b[38;5;28;01mif\u001b[39;00m hook_name \u001b[38;5;129;01mnot\u001b[39;00m \u001b[38;5;129;01min\u001b[39;00m \u001b[38;5;28mself\u001b[39m\u001b[38;5;241m.\u001b[39m_hook_times:\n",
      "File \u001b[1;32m~\\miniconda3\\envs\\tf_2.4\\lib\\site-packages\\keras\\callbacks.py:1081\u001b[0m, in \u001b[0;36mProgbarLogger.on_train_batch_end\u001b[1;34m(self, batch, logs)\u001b[0m\n\u001b[0;32m   1080\u001b[0m \u001b[38;5;28;01mdef\u001b[39;00m \u001b[38;5;21mon_train_batch_end\u001b[39m(\u001b[38;5;28mself\u001b[39m, batch, logs\u001b[38;5;241m=\u001b[39m\u001b[38;5;28;01mNone\u001b[39;00m):\n\u001b[1;32m-> 1081\u001b[0m     \u001b[38;5;28;43mself\u001b[39;49m\u001b[38;5;241;43m.\u001b[39;49m\u001b[43m_batch_update_progbar\u001b[49m\u001b[43m(\u001b[49m\u001b[43mbatch\u001b[49m\u001b[43m,\u001b[49m\u001b[43m \u001b[49m\u001b[43mlogs\u001b[49m\u001b[43m)\u001b[49m\n",
      "File \u001b[1;32m~\\miniconda3\\envs\\tf_2.4\\lib\\site-packages\\keras\\callbacks.py:1157\u001b[0m, in \u001b[0;36mProgbarLogger._batch_update_progbar\u001b[1;34m(self, batch, logs)\u001b[0m\n\u001b[0;32m   1153\u001b[0m     \u001b[38;5;28mself\u001b[39m\u001b[38;5;241m.\u001b[39mseen \u001b[38;5;241m+\u001b[39m\u001b[38;5;241m=\u001b[39m add_seen\n\u001b[0;32m   1155\u001b[0m \u001b[38;5;28;01mif\u001b[39;00m \u001b[38;5;28mself\u001b[39m\u001b[38;5;241m.\u001b[39mverbose \u001b[38;5;241m==\u001b[39m \u001b[38;5;241m1\u001b[39m:\n\u001b[0;32m   1156\u001b[0m     \u001b[38;5;66;03m# Only block async when verbose = 1.\u001b[39;00m\n\u001b[1;32m-> 1157\u001b[0m     logs \u001b[38;5;241m=\u001b[39m \u001b[43mtf_utils\u001b[49m\u001b[38;5;241;43m.\u001b[39;49m\u001b[43msync_to_numpy_or_python_type\u001b[49m\u001b[43m(\u001b[49m\u001b[43mlogs\u001b[49m\u001b[43m)\u001b[49m\n\u001b[0;32m   1158\u001b[0m     \u001b[38;5;28mself\u001b[39m\u001b[38;5;241m.\u001b[39mprogbar\u001b[38;5;241m.\u001b[39mupdate(\u001b[38;5;28mself\u001b[39m\u001b[38;5;241m.\u001b[39mseen, \u001b[38;5;28mlist\u001b[39m(logs\u001b[38;5;241m.\u001b[39mitems()), finalize\u001b[38;5;241m=\u001b[39m\u001b[38;5;28;01mFalse\u001b[39;00m)\n",
      "File \u001b[1;32m~\\miniconda3\\envs\\tf_2.4\\lib\\site-packages\\keras\\utils\\tf_utils.py:635\u001b[0m, in \u001b[0;36msync_to_numpy_or_python_type\u001b[1;34m(tensors)\u001b[0m\n\u001b[0;32m    632\u001b[0m         \u001b[38;5;28;01mreturn\u001b[39;00m t\n\u001b[0;32m    633\u001b[0m     \u001b[38;5;28;01mreturn\u001b[39;00m t\u001b[38;5;241m.\u001b[39mitem() \u001b[38;5;28;01mif\u001b[39;00m np\u001b[38;5;241m.\u001b[39mndim(t) \u001b[38;5;241m==\u001b[39m \u001b[38;5;241m0\u001b[39m \u001b[38;5;28;01melse\u001b[39;00m t\n\u001b[1;32m--> 635\u001b[0m \u001b[38;5;28;01mreturn\u001b[39;00m \u001b[43mtf\u001b[49m\u001b[38;5;241;43m.\u001b[39;49m\u001b[43mnest\u001b[49m\u001b[38;5;241;43m.\u001b[39;49m\u001b[43mmap_structure\u001b[49m\u001b[43m(\u001b[49m\u001b[43m_to_single_numpy_or_python_type\u001b[49m\u001b[43m,\u001b[49m\u001b[43m \u001b[49m\u001b[43mtensors\u001b[49m\u001b[43m)\u001b[49m\n",
      "File \u001b[1;32m~\\miniconda3\\envs\\tf_2.4\\lib\\site-packages\\tensorflow\\python\\util\\nest.py:917\u001b[0m, in \u001b[0;36mmap_structure\u001b[1;34m(func, *structure, **kwargs)\u001b[0m\n\u001b[0;32m    913\u001b[0m flat_structure \u001b[38;5;241m=\u001b[39m (flatten(s, expand_composites) \u001b[38;5;28;01mfor\u001b[39;00m s \u001b[38;5;129;01min\u001b[39;00m structure)\n\u001b[0;32m    914\u001b[0m entries \u001b[38;5;241m=\u001b[39m \u001b[38;5;28mzip\u001b[39m(\u001b[38;5;241m*\u001b[39mflat_structure)\n\u001b[0;32m    916\u001b[0m \u001b[38;5;28;01mreturn\u001b[39;00m pack_sequence_as(\n\u001b[1;32m--> 917\u001b[0m     structure[\u001b[38;5;241m0\u001b[39m], [func(\u001b[38;5;241m*\u001b[39mx) \u001b[38;5;28;01mfor\u001b[39;00m x \u001b[38;5;129;01min\u001b[39;00m entries],\n\u001b[0;32m    918\u001b[0m     expand_composites\u001b[38;5;241m=\u001b[39mexpand_composites)\n",
      "File \u001b[1;32m~\\miniconda3\\envs\\tf_2.4\\lib\\site-packages\\tensorflow\\python\\util\\nest.py:917\u001b[0m, in \u001b[0;36m<listcomp>\u001b[1;34m(.0)\u001b[0m\n\u001b[0;32m    913\u001b[0m flat_structure \u001b[38;5;241m=\u001b[39m (flatten(s, expand_composites) \u001b[38;5;28;01mfor\u001b[39;00m s \u001b[38;5;129;01min\u001b[39;00m structure)\n\u001b[0;32m    914\u001b[0m entries \u001b[38;5;241m=\u001b[39m \u001b[38;5;28mzip\u001b[39m(\u001b[38;5;241m*\u001b[39mflat_structure)\n\u001b[0;32m    916\u001b[0m \u001b[38;5;28;01mreturn\u001b[39;00m pack_sequence_as(\n\u001b[1;32m--> 917\u001b[0m     structure[\u001b[38;5;241m0\u001b[39m], [\u001b[43mfunc\u001b[49m\u001b[43m(\u001b[49m\u001b[38;5;241;43m*\u001b[39;49m\u001b[43mx\u001b[49m\u001b[43m)\u001b[49m \u001b[38;5;28;01mfor\u001b[39;00m x \u001b[38;5;129;01min\u001b[39;00m entries],\n\u001b[0;32m    918\u001b[0m     expand_composites\u001b[38;5;241m=\u001b[39mexpand_composites)\n",
      "File \u001b[1;32m~\\miniconda3\\envs\\tf_2.4\\lib\\site-packages\\keras\\utils\\tf_utils.py:628\u001b[0m, in \u001b[0;36msync_to_numpy_or_python_type.<locals>._to_single_numpy_or_python_type\u001b[1;34m(t)\u001b[0m\n\u001b[0;32m    625\u001b[0m \u001b[38;5;28;01mdef\u001b[39;00m \u001b[38;5;21m_to_single_numpy_or_python_type\u001b[39m(t):\n\u001b[0;32m    626\u001b[0m     \u001b[38;5;66;03m# Don't turn ragged or sparse tensors to NumPy.\u001b[39;00m\n\u001b[0;32m    627\u001b[0m     \u001b[38;5;28;01mif\u001b[39;00m \u001b[38;5;28misinstance\u001b[39m(t, tf\u001b[38;5;241m.\u001b[39mTensor):\n\u001b[1;32m--> 628\u001b[0m         t \u001b[38;5;241m=\u001b[39m \u001b[43mt\u001b[49m\u001b[38;5;241;43m.\u001b[39;49m\u001b[43mnumpy\u001b[49m\u001b[43m(\u001b[49m\u001b[43m)\u001b[49m\n\u001b[0;32m    629\u001b[0m     \u001b[38;5;66;03m# Strings, ragged and sparse tensors don't have .item(). Return them\u001b[39;00m\n\u001b[0;32m    630\u001b[0m     \u001b[38;5;66;03m# as-is.\u001b[39;00m\n\u001b[0;32m    631\u001b[0m     \u001b[38;5;28;01mif\u001b[39;00m \u001b[38;5;129;01mnot\u001b[39;00m \u001b[38;5;28misinstance\u001b[39m(t, (np\u001b[38;5;241m.\u001b[39mndarray, np\u001b[38;5;241m.\u001b[39mgeneric)):\n",
      "File \u001b[1;32m~\\miniconda3\\envs\\tf_2.4\\lib\\site-packages\\tensorflow\\python\\framework\\ops.py:1157\u001b[0m, in \u001b[0;36m_EagerTensorBase.numpy\u001b[1;34m(self)\u001b[0m\n\u001b[0;32m   1134\u001b[0m \u001b[38;5;124;03m\"\"\"Copy of the contents of this Tensor into a NumPy array or scalar.\u001b[39;00m\n\u001b[0;32m   1135\u001b[0m \n\u001b[0;32m   1136\u001b[0m \u001b[38;5;124;03mUnlike NumPy arrays, Tensors are immutable, so this method has to copy\u001b[39;00m\n\u001b[1;32m   (...)\u001b[0m\n\u001b[0;32m   1154\u001b[0m \u001b[38;5;124;03m    NumPy dtype.\u001b[39;00m\n\u001b[0;32m   1155\u001b[0m \u001b[38;5;124;03m\"\"\"\u001b[39;00m\n\u001b[0;32m   1156\u001b[0m \u001b[38;5;66;03m# TODO(slebedev): Consider avoiding a copy for non-CPU or remote tensors.\u001b[39;00m\n\u001b[1;32m-> 1157\u001b[0m maybe_arr \u001b[38;5;241m=\u001b[39m \u001b[38;5;28;43mself\u001b[39;49m\u001b[38;5;241;43m.\u001b[39;49m\u001b[43m_numpy\u001b[49m\u001b[43m(\u001b[49m\u001b[43m)\u001b[49m  \u001b[38;5;66;03m# pylint: disable=protected-access\u001b[39;00m\n\u001b[0;32m   1158\u001b[0m \u001b[38;5;28;01mreturn\u001b[39;00m maybe_arr\u001b[38;5;241m.\u001b[39mcopy() \u001b[38;5;28;01mif\u001b[39;00m \u001b[38;5;28misinstance\u001b[39m(maybe_arr, np\u001b[38;5;241m.\u001b[39mndarray) \u001b[38;5;28;01melse\u001b[39;00m maybe_arr\n",
      "File \u001b[1;32m~\\miniconda3\\envs\\tf_2.4\\lib\\site-packages\\tensorflow\\python\\framework\\ops.py:1123\u001b[0m, in \u001b[0;36m_EagerTensorBase._numpy\u001b[1;34m(self)\u001b[0m\n\u001b[0;32m   1121\u001b[0m \u001b[38;5;28;01mdef\u001b[39;00m \u001b[38;5;21m_numpy\u001b[39m(\u001b[38;5;28mself\u001b[39m):\n\u001b[0;32m   1122\u001b[0m   \u001b[38;5;28;01mtry\u001b[39;00m:\n\u001b[1;32m-> 1123\u001b[0m     \u001b[38;5;28;01mreturn\u001b[39;00m \u001b[38;5;28;43mself\u001b[39;49m\u001b[38;5;241;43m.\u001b[39;49m\u001b[43m_numpy_internal\u001b[49m\u001b[43m(\u001b[49m\u001b[43m)\u001b[49m\n\u001b[0;32m   1124\u001b[0m   \u001b[38;5;28;01mexcept\u001b[39;00m core\u001b[38;5;241m.\u001b[39m_NotOkStatusException \u001b[38;5;28;01mas\u001b[39;00m e:  \u001b[38;5;66;03m# pylint: disable=protected-access\u001b[39;00m\n\u001b[0;32m   1125\u001b[0m     \u001b[38;5;28;01mraise\u001b[39;00m core\u001b[38;5;241m.\u001b[39m_status_to_exception(e) \u001b[38;5;28;01mfrom\u001b[39;00m \u001b[38;5;28mNone\u001b[39m\n",
      "\u001b[1;31mKeyboardInterrupt\u001b[0m: "
     ]
    }
   ],
   "source": [
    "history = model2.fit(train, epochs=5, validation_data=validation)"
   ]
  },
  {
   "cell_type": "code",
   "execution_count": 17,
   "metadata": {},
   "outputs": [
    {
     "data": {
      "image/png": "[encoded data removed]",
      "text/plain": [
       "<Figure size 640x480 with 1 Axes>"
      ]
     },
     "metadata": {},
     "output_type": "display_data"
    },
    {
     "data": {
      "image/png": "[encoded data removed]",
      "text/plain": [
       "<Figure size 640x480 with 1 Axes>"
      ]
     },
     "metadata": {},
     "output_type": "display_data"
    }
   ],
   "source": [
    "acc = history.history['mae']\n",
    "val_acc = history.history['val_mae']\n",
    "epochs = range(len(acc))\n",
    "\n",
    "plt.plot(epochs, acc, 'b', label='Training MSE')\n",
    "plt.plot(epochs, val_acc, 'r', label='Validation MSE')\n",
    "plt.title('MSE Graph')\n",
    "plt.legend()\n",
    "plt.figure()\n",
    "\n",
    "loss = history.history['loss']\n",
    "val_loss = history.history['val_loss']\n",
    "plt.plot(epochs, loss, 'b', label='Training Loss')\n",
    "plt.plot(epochs, val_loss, 'r', label='Validation Loss')\n",
    "plt.title('Loss Graph')\n",
    "plt.legend()\n",
    "plt.show()"
   ]
  },
  {
   "cell_type": "code",
   "execution_count": 18,
   "metadata": {},
   "outputs": [
    {
     "name": "stdout",
     "output_type": "stream",
     "text": [
      "1052/1052 [==============================] - 111s 106ms/step\n"
     ]
    }
   ],
   "source": [
    "ypred2 = model2.predict(test)"
   ]
  },
  {
   "cell_type": "code",
   "execution_count": 36,
   "metadata": {},
   "outputs": [
    {
     "name": "stdout",
     "output_type": "stream",
     "text": [
      "[3.39, 3.53, 3.51, 3.48]\n",
      "[array([2.9259853], dtype=float32), array([2.529662], dtype=float32), array([2.1101873], dtype=float32), array([3.1409855], dtype=float32)]\n"
     ]
    }
   ],
   "source": [
    "predictions = []\n",
    "real_data = []\n",
    "for i in range(4):\n",
    "    index = random.randint(0, 1000)\n",
    "    real_data.append(dfTest.iloc[index][6])\n",
    "    predictions.append(ypred2[index])\n",
    "print(real_data)\n",
    "print(predictions)"
   ]
  },
  {
   "cell_type": "code",
   "execution_count": 8,
   "metadata": {},
   "outputs": [],
   "source": [
    "dfTrain = pd.read_csv('./Train_copia2.csv')\n",
    "dfValidation = pd.read_csv('./Validation2.csv')\n",
    "dfTest = pd.read_csv('./Test2.csv')"
   ]
  },
  {
   "cell_type": "code",
   "execution_count": 9,
   "metadata": {},
   "outputs": [],
   "source": [
    "model3 = Sequential([\n",
    "            Conv2D(32, (3,3), activation='linear'),\n",
    "            MaxPooling2D((2,2)),\n",
    "            Conv2D(64, (3,3), activation='linear'),\n",
    "            MaxPooling2D((2,2)),\n",
    "            Conv2D(128, (3,3), activation='linear'),\n",
    "            MaxPooling2D((2,2)),\n",
    "            Flatten(),\n",
    "            Dense(64, activation='linear'),\n",
    "            Dense(32, activation='linear'),\n",
    "            Dense(1, activation='linear')\n",
    "]) "
   ]
  },
  {
   "cell_type": "code",
   "execution_count": 10,
   "metadata": {},
   "outputs": [],
   "source": [
    "model3.compile(optimizer='adam', metrics=['mae'], loss=\"mean_squared_error\",)"
   ]
  },
  {
   "cell_type": "code",
   "execution_count": 11,
   "metadata": {},
   "outputs": [
    {
     "name": "stdout",
     "output_type": "stream",
     "text": [
      "Found 14998 validated image filenames.\n"
     ]
    },
    {
     "name": "stderr",
     "output_type": "stream",
     "text": [
      "C:\\Users\\david\\miniconda3\\envs\\tf_2.4\\lib\\site-packages\\keras\\preprocessing\\image.py:1139: UserWarning: Found 1 invalid image filename(s) in x_col=\" Filename\". These filename(s) will be ignored.\n",
      "  warnings.warn(\n"
     ]
    },
    {
     "name": "stdout",
     "output_type": "stream",
     "text": [
      "Found 8414 validated image filenames.\n",
      "Found 8411 validated image filenames.\n"
     ]
    }
   ],
   "source": [
    "def to_grayscale_then_rgb(image):\n",
    "    image = tf.image.rgb_to_grayscale(image)\n",
    "    image = tf.image.grayscale_to_rgb(image)\n",
    "    return image\n",
    "\n",
    "generator = ImageDataGenerator(\n",
    "    rescale= 1. / 255,\n",
    "    preprocessing_function=to_grayscale_then_rgb\n",
    ")\n",
    "\n",
    "train = generator.flow_from_dataframe(\n",
    "    dataframe=dfTrain,\n",
    "    x_col=' Filename',\n",
    "    y_col=' Stage',\n",
    "    target_size=(280, 230),\n",
    "    batch_size=16, \n",
    "    class_mode='raw',\n",
    "    validate_filenames=True\n",
    ")\n",
    "\n",
    "test = generator.flow_from_dataframe(\n",
    "    dataframe=dfTest,\n",
    "    x_col=' Filename', \n",
    "    y_col=' Stage',\n",
    "    target_size=(280, 230),\n",
    "    batch_size=16,\n",
    "    class_mode='raw',\n",
    "    validate_filenames=True\n",
    ")\n",
    "\n",
    "validation = generator.flow_from_dataframe(\n",
    "    dataframe=dfValidation,\n",
    "    x_col=' Filename',\n",
    "    y_col=' Stage',\n",
    "    target_size=(280, 230), \n",
    "    batch_size=16, \n",
    "    class_mode='raw',\n",
    "    validate_filenames=True\n",
    ")"
   ]
  },
  {
   "cell_type": "code",
   "execution_count": 12,
   "metadata": {},
   "outputs": [
    {
     "name": "stdout",
     "output_type": "stream",
     "text": [
      "Epoch 1/5\n",
      "938/938 [==============================] - 227s 241ms/step - loss: 17.3019 - mae: 0.8000 - val_loss: 0.1568 - val_mae: 0.3442\n",
      "Epoch 2/5\n",
      "938/938 [==============================] - 133s 142ms/step - loss: 0.0422 - mae: 0.1428 - val_loss: 0.2159 - val_mae: 0.4121\n",
      "Epoch 3/5\n",
      "938/938 [==============================] - 133s 142ms/step - loss: 0.0284 - mae: 0.1174 - val_loss: 0.2485 - val_mae: 0.4440\n",
      "Epoch 4/5\n",
      "938/938 [==============================] - 132s 141ms/step - loss: 0.0233 - mae: 0.1082 - val_loss: 0.2657 - val_mae: 0.4612\n",
      "Epoch 5/5\n",
      "938/938 [==============================] - 131s 140ms/step - loss: 0.0187 - mae: 0.0978 - val_loss: 0.2661 - val_mae: 0.4619\n"
     ]
    }
   ],
   "source": [
    "history = model3.fit(train, epochs=5, validation_data=validation)"
   ]
  },
  {
   "cell_type": "code",
   "execution_count": 20,
   "metadata": {},
   "outputs": [
    {
     "data": {
      "image/png": "[encoded data removed]",
      "text/plain": [
       "<Figure size 640x480 with 1 Axes>"
      ]
     },
     "metadata": {},
     "output_type": "display_data"
    },
    {
     "data": {
      "image/png": "[encoded data removed]",
      "text/plain": [
       "<Figure size 640x480 with 1 Axes>"
      ]
     },
     "metadata": {},
     "output_type": "display_data"
    }
   ],
   "source": [
    "acc = history.history['mae']\n",
    "val_acc = history.history['val_mae']\n",
    "epochs = range(len(acc))\n",
    "\n",
    "plt.plot(epochs, acc, 'b', label='Training MSE')\n",
    "plt.plot(epochs, val_acc, 'r', label='Validation MSE')\n",
    "plt.title('MSE Graph')\n",
    "plt.legend()\n",
    "plt.figure()\n",
    "\n",
    "loss = history.history['loss']\n",
    "val_loss = history.history['val_loss']\n",
    "plt.plot(epochs, loss, 'b', label='Training Loss')\n",
    "plt.plot(epochs, val_loss, 'r', label='Validation Loss')\n",
    "plt.title('Loss Graph')\n",
    "plt.legend()\n",
    "plt.show()"
   ]
  },
  {
   "cell_type": "code",
   "execution_count": 14,
   "metadata": {},
   "outputs": [
    {
     "data": {
      "text/plain": [
       "'./new/StateLineWeir_20170701_Farrell_342.jpg'"
      ]
     },
     "execution_count": 14,
     "metadata": {},
     "output_type": "execute_result"
    }
   ],
   "source": [
    "dfTest.iloc[3][2]"
   ]
  },
  {
   "cell_type": "code",
   "execution_count": 15,
   "metadata": {},
   "outputs": [
    {
     "name": "stdout",
     "output_type": "stream",
     "text": [
      "526/526 [==============================] - 78s 147ms/step\n"
     ]
    }
   ],
   "source": [
    "ypred3 = model3.predict(test)"
   ]
  },
  {
   "cell_type": "code",
   "execution_count": 17,
   "metadata": {},
   "outputs": [
    {
     "name": "stdout",
     "output_type": "stream",
     "text": [
      "526/526 [==============================] - 43s 82ms/step - loss: 0.1565 - mae: 0.3270\n"
     ]
    }
   ],
   "source": [
    "test_loss, test_mae = model3.evaluate(test)"
   ]
  },
  {
   "cell_type": "code",
   "execution_count": 18,
   "metadata": {},
   "outputs": [
    {
     "data": {
      "text/plain": [
       "0.1565338671207428"
      ]
     },
     "execution_count": 18,
     "metadata": {},
     "output_type": "execute_result"
    }
   ],
   "source": [
    "test_loss"
   ]
  },
  {
   "cell_type": "code",
   "execution_count": 19,
   "metadata": {},
   "outputs": [
    {
     "data": {
      "text/plain": [
       "0.32701894640922546"
      ]
     },
     "execution_count": 19,
     "metadata": {},
     "output_type": "execute_result"
    }
   ],
   "source": [
    "test_mae"
   ]
  },
  {
   "cell_type": "code",
   "execution_count": 103,
   "metadata": {},
   "outputs": [
    {
     "name": "stdout",
     "output_type": "stream",
     "text": [
      "[3.07, 2.82, 2.37, 3.29]\n",
      "[array([3.0962567], dtype=float32), array([2.8091562], dtype=float32), array([2.843768], dtype=float32), array([2.3363998], dtype=float32)]\n"
     ]
    }
   ],
   "source": [
    "predictions = []\n",
    "real_data = []\n",
    "for i in range(4):\n",
    "    index = random.randint(0, 8400)\n",
    "    real_data.append(dfTest.iloc[index][6])\n",
    "    predictions.append(ypred3[index])\n",
    "print(real_data)\n",
    "print(predictions)"
   ]
  },
  {
   "cell_type": "code",
   "execution_count": 29,
   "metadata": {},
   "outputs": [],
   "source": [
    "#predictions = []\n",
    "#real_data = []\n",
    "\n",
    "#for i in range(4):\n",
    "#    index = random.randint(0, 1000)\n",
    "#    new_image = tf.expand_dims(dfTest.iloc[index][2],0)\n",
    "#    ypred = model.predict(new_image)\n",
    "#    real_data.append(dfTest.iloc[index][6])\n",
    "#    predictions.append(ypred)\n",
    "#print(real_data)\n",
    "#print(predictions)"
   ]
  },
  {
   "cell_type": "code",
   "execution_count": 58,
   "metadata": {},
   "outputs": [],
   "source": [
    "dfTrain = pd.read_csv('./Train_copia2.csv')\n",
    "dfValidation = pd.read_csv('./Validation2.csv')\n",
    "dfTest = pd.read_csv('./Test2.csv')"
   ]
  },
  {
   "cell_type": "code",
   "execution_count": 59,
   "metadata": {},
   "outputs": [],
   "source": [
    "model4 = Sequential([\n",
    "            Conv2D(32, (3,3), activation='linear'),\n",
    "            MaxPooling2D((2,2)),\n",
    "            Conv2D(64, (3,3), activation='linear'),\n",
    "            MaxPooling2D((2,2)),\n",
    "            Conv2D(128, (3,3), activation='linear'),\n",
    "            MaxPooling2D((2,2)),\n",
    "            Flatten(),\n",
    "            Dense(64, activation='linear'),\n",
    "            Dense(32, activation='linear'),\n",
    "            Dense(1, activation='linear')\n",
    "]) "
   ]
  },
  {
   "cell_type": "code",
   "execution_count": 60,
   "metadata": {},
   "outputs": [],
   "source": [
    "from sklearn.metrics import r2_score\n",
    "model4.compile(loss=\"mse\", optimizer='adam', metrics=[r2_score], run_eagerly=True) "
   ]
  },
  {
   "cell_type": "code",
   "execution_count": 61,
   "metadata": {},
   "outputs": [
    {
     "name": "stdout",
     "output_type": "stream",
     "text": [
      "Found 14998 validated image filenames.\n"
     ]
    },
    {
     "name": "stderr",
     "output_type": "stream",
     "text": [
      "C:\\Users\\david\\miniconda3\\envs\\tf_2.4\\lib\\site-packages\\keras\\preprocessing\\image.py:1139: UserWarning: Found 1 invalid image filename(s) in x_col=\" Filename\". These filename(s) will be ignored.\n",
      "  warnings.warn(\n"
     ]
    },
    {
     "name": "stdout",
     "output_type": "stream",
     "text": [
      "Found 8414 validated image filenames.\n",
      "Found 8411 validated image filenames.\n"
     ]
    }
   ],
   "source": [
    "def to_grayscale_then_rgb(image):\n",
    "    image = tf.image.rgb_to_grayscale(image)\n",
    "    image = tf.image.grayscale_to_rgb(image)\n",
    "    return image\n",
    "\n",
    "generator = ImageDataGenerator(\n",
    "    rescale= 1. / 255,\n",
    "    preprocessing_function=to_grayscale_then_rgb\n",
    ")\n",
    "\n",
    "train = generator.flow_from_dataframe(\n",
    "    dataframe=dfTrain,\n",
    "    x_col=' Filename',\n",
    "    y_col=' Stage',\n",
    "    target_size=(280, 230),\n",
    "    batch_size=8, \n",
    "    class_mode='raw',\n",
    "    validate_filenames=True\n",
    ")\n",
    "\n",
    "test = generator.flow_from_dataframe(\n",
    "    dataframe=dfTest,\n",
    "    x_col=' Filename', \n",
    "    y_col=' Stage',\n",
    "    target_size=(280, 230),\n",
    "    batch_size=8,\n",
    "    class_mode='raw',\n",
    "    validate_filenames=True\n",
    ")\n",
    "\n",
    "validation = generator.flow_from_dataframe(\n",
    "    dataframe=dfValidation,\n",
    "    x_col=' Filename',\n",
    "    y_col=' Stage',\n",
    "    target_size=(280, 230), \n",
    "    batch_size=8, \n",
    "    class_mode='raw',\n",
    "    validate_filenames=True\n",
    ")"
   ]
  },
  {
   "cell_type": "code",
   "execution_count": 62,
   "metadata": {},
   "outputs": [],
   "source": [
    "from tensorflow.keras.callbacks import EarlyStopping, ModelCheckpoint, TensorBoard\n",
    "# Se ocupa tener una carpeta creada llamada checkpoint para que funcione\n",
    "filepath='./checkpoint/'\n",
    "my_callbacks = [\n",
    "    EarlyStopping(patience=2),\n",
    "    ModelCheckpoint(filepath, monitor= \"val_loss\", verbose= 0, save_best_only=False, save_weights_only= False, mode= \"auto\", save_freq=\"epoch\", options=None, initial_value_threshold=None),\n",
    "    TensorBoard(log_dir='./logs'),\n",
    "]"
   ]
  },
  {
   "cell_type": "code",
   "execution_count": 63,
   "metadata": {},
   "outputs": [
    {
     "name": "stdout",
     "output_type": "stream",
     "text": [
      "Epoch 1/4\n",
      "1875/1875 [==============================] - 238s 127ms/step - loss: 5.8873 - r2_score: -24.3158 - val_loss: 0.2287 - val_r2_score: -0.0120\n",
      "Epoch 2/4\n",
      "1875/1875 [==============================] - 247s 132ms/step - loss: 0.0314 - r2_score: 0.8739 - val_loss: 0.2903 - val_r2_score: -0.4568\n",
      "Epoch 3/4\n",
      "1875/1875 [==============================] - ETA: 0s - loss: 0.0217 - r2_score: 0.9153"
     ]
    },
    {
     "ename": "ValueError",
     "evalue": "in user code:\n\n    File \"C:\\Users\\david\\miniconda3\\envs\\tf_2.4\\lib\\site-packages\\sklearn\\metrics\\_regression.py\", line 910, in r2_score  *\n        y_type, y_true, y_pred, multioutput = _check_reg_targets(\n    File \"C:\\Users\\david\\miniconda3\\envs\\tf_2.4\\lib\\site-packages\\sklearn\\metrics\\_regression.py\", line 100, in _check_reg_targets  *\n        check_consistent_length(y_true, y_pred)\n    File \"C:\\Users\\david\\miniconda3\\envs\\tf_2.4\\lib\\site-packages\\sklearn\\utils\\validation.py\", line 387, in check_consistent_length  *\n        raise ValueError(\n\n    ValueError: Found input variables with inconsistent numbers of samples: [1, 8]\n",
     "output_type": "error",
     "traceback": [
      "\u001b[1;31m---------------------------------------------------------------------------\u001b[0m",
      "\u001b[1;31mValueError\u001b[0m                                Traceback (most recent call last)",
      "Cell \u001b[1;32mIn [63], line 1\u001b[0m\n\u001b[1;32m----> 1\u001b[0m history \u001b[38;5;241m=\u001b[39m \u001b[43mmodel4\u001b[49m\u001b[38;5;241;43m.\u001b[39;49m\u001b[43mfit\u001b[49m\u001b[43m(\u001b[49m\u001b[43mtrain\u001b[49m\u001b[43m,\u001b[49m\u001b[43m \u001b[49m\u001b[43mepochs\u001b[49m\u001b[38;5;241;43m=\u001b[39;49m\u001b[38;5;241;43m4\u001b[39;49m\u001b[43m,\u001b[49m\u001b[43m \u001b[49m\u001b[43mvalidation_data\u001b[49m\u001b[38;5;241;43m=\u001b[39;49m\u001b[43mvalidation\u001b[49m\u001b[43m)\u001b[49m\n",
      "File \u001b[1;32m~\\miniconda3\\envs\\tf_2.4\\lib\\site-packages\\keras\\utils\\traceback_utils.py:70\u001b[0m, in \u001b[0;36mfilter_traceback.<locals>.error_handler\u001b[1;34m(*args, **kwargs)\u001b[0m\n\u001b[0;32m     67\u001b[0m     filtered_tb \u001b[38;5;241m=\u001b[39m _process_traceback_frames(e\u001b[38;5;241m.\u001b[39m__traceback__)\n\u001b[0;32m     68\u001b[0m     \u001b[38;5;66;03m# To get the full stack trace, call:\u001b[39;00m\n\u001b[0;32m     69\u001b[0m     \u001b[38;5;66;03m# `tf.debugging.disable_traceback_filtering()`\u001b[39;00m\n\u001b[1;32m---> 70\u001b[0m     \u001b[38;5;28;01mraise\u001b[39;00m e\u001b[38;5;241m.\u001b[39mwith_traceback(filtered_tb) \u001b[38;5;28;01mfrom\u001b[39;00m \u001b[38;5;28mNone\u001b[39m\n\u001b[0;32m     71\u001b[0m \u001b[38;5;28;01mfinally\u001b[39;00m:\n\u001b[0;32m     72\u001b[0m     \u001b[38;5;28;01mdel\u001b[39;00m filtered_tb\n",
      "File \u001b[1;32m~\\AppData\\Local\\Temp\\__autograph_generated_filep7dxsyba.py:11\u001b[0m, in \u001b[0;36mouter_factory.<locals>.inner_factory.<locals>.tf__r2_score\u001b[1;34m(y_true, y_pred, sample_weight, multioutput, force_finite)\u001b[0m\n\u001b[0;32m      9\u001b[0m do_return \u001b[38;5;241m=\u001b[39m \u001b[38;5;28;01mFalse\u001b[39;00m\n\u001b[0;32m     10\u001b[0m retval_ \u001b[38;5;241m=\u001b[39m ag__\u001b[38;5;241m.\u001b[39mUndefinedReturnValue()\n\u001b[1;32m---> 11\u001b[0m (y_type, y_true, y_pred, multioutput) \u001b[38;5;241m=\u001b[39m ag__\u001b[38;5;241m.\u001b[39mconverted_call(ag__\u001b[38;5;241m.\u001b[39mld(_check_reg_targets), (ag__\u001b[38;5;241m.\u001b[39mld(y_true), ag__\u001b[38;5;241m.\u001b[39mld(y_pred), ag__\u001b[38;5;241m.\u001b[39mld(multioutput)), \u001b[38;5;28;01mNone\u001b[39;00m, fscope)\n\u001b[0;32m     12\u001b[0m ag__\u001b[38;5;241m.\u001b[39mconverted_call(ag__\u001b[38;5;241m.\u001b[39mld(check_consistent_length), (ag__\u001b[38;5;241m.\u001b[39mld(y_true), ag__\u001b[38;5;241m.\u001b[39mld(y_pred), ag__\u001b[38;5;241m.\u001b[39mld(sample_weight)), \u001b[38;5;28;01mNone\u001b[39;00m, fscope)\n\u001b[0;32m     14\u001b[0m \u001b[38;5;28;01mdef\u001b[39;00m \u001b[38;5;21mget_state_1\u001b[39m():\n",
      "File \u001b[1;32m~\\AppData\\Local\\Temp\\__autograph_generated_filepz0bxgoh.py:11\u001b[0m, in \u001b[0;36mouter_factory.<locals>.inner_factory.<locals>.tf___check_reg_targets\u001b[1;34m(y_true, y_pred, multioutput, dtype)\u001b[0m\n\u001b[0;32m      9\u001b[0m do_return \u001b[38;5;241m=\u001b[39m \u001b[38;5;28;01mFalse\u001b[39;00m\n\u001b[0;32m     10\u001b[0m retval_ \u001b[38;5;241m=\u001b[39m ag__\u001b[38;5;241m.\u001b[39mUndefinedReturnValue()\n\u001b[1;32m---> 11\u001b[0m ag__\u001b[38;5;241m.\u001b[39mconverted_call(ag__\u001b[38;5;241m.\u001b[39mld(check_consistent_length), (ag__\u001b[38;5;241m.\u001b[39mld(y_true), ag__\u001b[38;5;241m.\u001b[39mld(y_pred)), \u001b[38;5;28;01mNone\u001b[39;00m, fscope)\n\u001b[0;32m     12\u001b[0m y_true \u001b[38;5;241m=\u001b[39m ag__\u001b[38;5;241m.\u001b[39mconverted_call(ag__\u001b[38;5;241m.\u001b[39mld(check_array), (ag__\u001b[38;5;241m.\u001b[39mld(y_true),), \u001b[38;5;28mdict\u001b[39m(ensure_2d\u001b[38;5;241m=\u001b[39m\u001b[38;5;28;01mFalse\u001b[39;00m, dtype\u001b[38;5;241m=\u001b[39mag__\u001b[38;5;241m.\u001b[39mld(dtype)), fscope)\n\u001b[0;32m     13\u001b[0m y_pred \u001b[38;5;241m=\u001b[39m ag__\u001b[38;5;241m.\u001b[39mconverted_call(ag__\u001b[38;5;241m.\u001b[39mld(check_array), (ag__\u001b[38;5;241m.\u001b[39mld(y_pred),), \u001b[38;5;28mdict\u001b[39m(ensure_2d\u001b[38;5;241m=\u001b[39m\u001b[38;5;28;01mFalse\u001b[39;00m, dtype\u001b[38;5;241m=\u001b[39mag__\u001b[38;5;241m.\u001b[39mld(dtype)), fscope)\n",
      "File \u001b[1;32m~\\AppData\\Local\\Temp\\__autograph_generated_fileaysq10b1.py:23\u001b[0m, in \u001b[0;36mouter_factory.<locals>.inner_factory.<locals>.tf__check_consistent_length\u001b[1;34m(*arrays)\u001b[0m\n\u001b[0;32m     21\u001b[0m \u001b[38;5;28;01mdef\u001b[39;00m \u001b[38;5;21melse_body\u001b[39m():\n\u001b[0;32m     22\u001b[0m     \u001b[38;5;28;01mpass\u001b[39;00m\n\u001b[1;32m---> 23\u001b[0m ag__\u001b[38;5;241m.\u001b[39mif_stmt((ag__\u001b[38;5;241m.\u001b[39mconverted_call(ag__\u001b[38;5;241m.\u001b[39mld(\u001b[38;5;28mlen\u001b[39m), (ag__\u001b[38;5;241m.\u001b[39mld(uniques),), \u001b[38;5;28;01mNone\u001b[39;00m, fscope) \u001b[38;5;241m>\u001b[39m \u001b[38;5;241m1\u001b[39m), if_body, else_body, get_state, set_state, (), \u001b[38;5;241m0\u001b[39m)\n",
      "File \u001b[1;32m~\\AppData\\Local\\Temp\\__autograph_generated_fileaysq10b1.py:19\u001b[0m, in \u001b[0;36mouter_factory.<locals>.inner_factory.<locals>.tf__check_consistent_length.<locals>.if_body\u001b[1;34m()\u001b[0m\n\u001b[0;32m     18\u001b[0m \u001b[38;5;28;01mdef\u001b[39;00m \u001b[38;5;21mif_body\u001b[39m():\n\u001b[1;32m---> 19\u001b[0m     \u001b[38;5;28;01mraise\u001b[39;00m ag__\u001b[38;5;241m.\u001b[39mconverted_call(ag__\u001b[38;5;241m.\u001b[39mld(\u001b[38;5;167;01mValueError\u001b[39;00m), ((\u001b[38;5;124m'\u001b[39m\u001b[38;5;124mFound input variables with inconsistent numbers of samples: \u001b[39m\u001b[38;5;132;01m%r\u001b[39;00m\u001b[38;5;124m'\u001b[39m \u001b[38;5;241m%\u001b[39m [ag__\u001b[38;5;241m.\u001b[39mconverted_call(ag__\u001b[38;5;241m.\u001b[39mld(\u001b[38;5;28mint\u001b[39m), (ag__\u001b[38;5;241m.\u001b[39mld(l),), \u001b[38;5;28;01mNone\u001b[39;00m, fscope) \u001b[38;5;28;01mfor\u001b[39;00m l \u001b[38;5;129;01min\u001b[39;00m ag__\u001b[38;5;241m.\u001b[39mld(lengths)]),), \u001b[38;5;28;01mNone\u001b[39;00m, fscope)\n",
      "\u001b[1;31mValueError\u001b[0m: in user code:\n\n    File \"C:\\Users\\david\\miniconda3\\envs\\tf_2.4\\lib\\site-packages\\sklearn\\metrics\\_regression.py\", line 910, in r2_score  *\n        y_type, y_true, y_pred, multioutput = _check_reg_targets(\n    File \"C:\\Users\\david\\miniconda3\\envs\\tf_2.4\\lib\\site-packages\\sklearn\\metrics\\_regression.py\", line 100, in _check_reg_targets  *\n        check_consistent_length(y_true, y_pred)\n    File \"C:\\Users\\david\\miniconda3\\envs\\tf_2.4\\lib\\site-packages\\sklearn\\utils\\validation.py\", line 387, in check_consistent_length  *\n        raise ValueError(\n\n    ValueError: Found input variables with inconsistent numbers of samples: [1, 8]\n"
     ]
    }
   ],
   "source": [
    "history = model4.fit(train, epochs=4, validation_data=validation)"
   ]
  },
  {
   "cell_type": "code",
   "execution_count": 39,
   "metadata": {},
   "outputs": [
    {
     "data": {
      "image/png": "[encoded data removed]",
      "text/plain": [
       "<Figure size 640x480 with 1 Axes>"
      ]
     },
     "metadata": {},
     "output_type": "display_data"
    },
    {
     "data": {
      "image/png": "[encoded data removed]",
      "text/plain": [
       "<Figure size 640x480 with 1 Axes>"
      ]
     },
     "metadata": {},
     "output_type": "display_data"
    }
   ],
   "source": [
    "acc = history.history['r2_score']\n",
    "val_acc = history.history['val_r2_score']\n",
    "epochs = range(len(acc))\n",
    "\n",
    "plt.plot(epochs, acc, 'b', label='Training R^2_Score')\n",
    "plt.plot(epochs, val_acc, 'r', label='Validation R^2_Score')\n",
    "plt.title('R^2_Score Graph')\n",
    "plt.legend()\n",
    "plt.figure()\n",
    "\n",
    "loss = history.history['loss']\n",
    "val_loss = history.history['val_loss']\n",
    "plt.plot(epochs, loss, 'b', label='Training Loss')\n",
    "plt.plot(epochs, val_loss, 'r', label='Validation Loss')\n",
    "plt.title('Loss Graph')\n",
    "plt.legend()\n",
    "plt.show()"
   ]
  },
  {
   "cell_type": "code",
   "execution_count": 37,
   "metadata": {},
   "outputs": [
    {
     "name": "stdout",
     "output_type": "stream",
     "text": [
      "526/526 [==============================] - 85s 162ms/step\n"
     ]
    }
   ],
   "source": [
    "ypred4 = model4.predict(test)"
   ]
  },
  {
   "cell_type": "code",
   "execution_count": 63,
   "metadata": {},
   "outputs": [
    {
     "name": "stdout",
     "output_type": "stream",
     "text": [
      "[3.22]\n",
      "[array([2.3924737], dtype=float32)]\n"
     ]
    }
   ],
   "source": [
    "predictions = []\n",
    "real_data = []\n",
    "for i in range(1):\n",
    "    index = random.randint(0, 8400)\n",
    "    real_data.append(dfTest.iloc[index][6])\n",
    "    predictions.append(ypred4[index])\n",
    "print(real_data)\n",
    "print(predictions)"
   ]
  },
  {
   "cell_type": "code",
   "execution_count": 27,
   "metadata": {},
   "outputs": [],
   "source": [
    "dfTrain = pd.read_csv('./train3.csv')\n",
    "dfValidation = pd.read_csv('./val3.csv')\n",
    "dfTest = pd.read_csv('./test3.csv')\n",
    "dfTestWinter = pd.read_csv('./testWinter.csv')\n",
    "dfTestSummer = pd.read_csv('./testSummer.csv')\n",
    "dfTestSpring = pd.read_csv('./testSpring.csv')\n",
    "dfTestAutumn = pd.read_csv('./testAutumn.csv')"
   ]
  },
  {
   "cell_type": "code",
   "execution_count": 58,
   "metadata": {},
   "outputs": [
    {
     "data": {
      "text/html": [
       "<div>\n",
       "<style scoped>\n",
       "    .dataframe tbody tr th:only-of-type {\n",
       "        vertical-align: middle;\n",
       "    }\n",
       "\n",
       "    .dataframe tbody tr th {\n",
       "        vertical-align: top;\n",
       "    }\n",
       "\n",
       "    .dataframe thead th {\n",
       "        text-align: right;\n",
       "    }\n",
       "</style>\n",
       "<table border=\"1\" class=\"dataframe\">\n",
       "  <thead>\n",
       "    <tr style=\"text-align: right;\">\n",
       "      <th></th>\n",
       "      <th>index</th>\n",
       "      <th>SensorTime</th>\n",
       "      <th>CaptureTime</th>\n",
       "      <th>Filename</th>\n",
       "      <th>Agency</th>\n",
       "      <th>SiteNumber</th>\n",
       "      <th>TimeZone</th>\n",
       "      <th>Stage</th>\n",
       "      <th>Discharge</th>\n",
       "      <th>CalcTimestamp</th>\n",
       "      <th>...</th>\n",
       "      <th>WwRawLineMin</th>\n",
       "      <th>WwRawLineMax</th>\n",
       "      <th>WwRawLineMean</th>\n",
       "      <th>WwRawLineSigma</th>\n",
       "      <th>WwCurveLineMin</th>\n",
       "      <th>WwCurveLineMax</th>\n",
       "      <th>WwCurveLineMean</th>\n",
       "      <th>WwCurveLineSigma</th>\n",
       "      <th>SensorTimeSeconds</th>\n",
       "      <th>datetime</th>\n",
       "    </tr>\n",
       "  </thead>\n",
       "  <tbody>\n",
       "    <tr>\n",
       "      <th>0</th>\n",
       "      <td>28811</td>\n",
       "      <td>2018-01-01 02:15:00</td>\n",
       "      <td>2018-01-01T02:08:44</td>\n",
       "      <td>./new/StateLineWeir_20180101_Farrell_453.jpg</td>\n",
       "      <td>USGS</td>\n",
       "      <td>6674500</td>\n",
       "      <td>MST</td>\n",
       "      <td>2.45</td>\n",
       "      <td>0.0</td>\n",
       "      <td>2020-03-12T09:26:44</td>\n",
       "      <td>...</td>\n",
       "      <td>393.0</td>\n",
       "      <td>47128.0</td>\n",
       "      <td>17538.540875</td>\n",
       "      <td>10663.453431</td>\n",
       "      <td>0.0</td>\n",
       "      <td>41212.0</td>\n",
       "      <td>16854.627888</td>\n",
       "      <td>10165.028689</td>\n",
       "      <td>1.514773e+09</td>\n",
       "      <td>2018-01-01 02:15:00</td>\n",
       "    </tr>\n",
       "    <tr>\n",
       "      <th>1</th>\n",
       "      <td>28812</td>\n",
       "      <td>2018-01-01 06:45:00</td>\n",
       "      <td>2018-01-01T06:44:48</td>\n",
       "      <td>./new/StateLineWeir_20180101_Farrell_457.jpg</td>\n",
       "      <td>USGS</td>\n",
       "      <td>6674500</td>\n",
       "      <td>MST</td>\n",
       "      <td>2.34</td>\n",
       "      <td>0.0</td>\n",
       "      <td>2020-03-12T09:26:46</td>\n",
       "      <td>...</td>\n",
       "      <td>0.0</td>\n",
       "      <td>74062.0</td>\n",
       "      <td>32635.285480</td>\n",
       "      <td>20324.633643</td>\n",
       "      <td>0.0</td>\n",
       "      <td>70220.0</td>\n",
       "      <td>31756.413934</td>\n",
       "      <td>20416.304778</td>\n",
       "      <td>1.514789e+09</td>\n",
       "      <td>2018-01-01 06:45:00</td>\n",
       "    </tr>\n",
       "    <tr>\n",
       "      <th>2</th>\n",
       "      <td>28813</td>\n",
       "      <td>2018-01-01 07:00:00</td>\n",
       "      <td>2018-01-01T06:59:49</td>\n",
       "      <td>./new/StateLineWeir_20180101_Farrell_458.jpg</td>\n",
       "      <td>USGS</td>\n",
       "      <td>6674500</td>\n",
       "      <td>MST</td>\n",
       "      <td>2.33</td>\n",
       "      <td>0.0</td>\n",
       "      <td>2020-03-12T09:26:47</td>\n",
       "      <td>...</td>\n",
       "      <td>0.0</td>\n",
       "      <td>80616.0</td>\n",
       "      <td>36381.414274</td>\n",
       "      <td>22022.605055</td>\n",
       "      <td>0.0</td>\n",
       "      <td>76294.0</td>\n",
       "      <td>35388.806557</td>\n",
       "      <td>22170.894569</td>\n",
       "      <td>1.514790e+09</td>\n",
       "      <td>2018-01-01 07:00:00</td>\n",
       "    </tr>\n",
       "    <tr>\n",
       "      <th>3</th>\n",
       "      <td>28814</td>\n",
       "      <td>2018-01-01 07:15:00</td>\n",
       "      <td>2018-01-01T07:14:48</td>\n",
       "      <td>./new/StateLineWeir_20180101_Farrell_459.jpg</td>\n",
       "      <td>USGS</td>\n",
       "      <td>6674500</td>\n",
       "      <td>MST</td>\n",
       "      <td>2.32</td>\n",
       "      <td>0.0</td>\n",
       "      <td>2020-03-12T09:26:54</td>\n",
       "      <td>...</td>\n",
       "      <td>0.0</td>\n",
       "      <td>0.0</td>\n",
       "      <td>0.000000</td>\n",
       "      <td>0.000000</td>\n",
       "      <td>0.0</td>\n",
       "      <td>0.0</td>\n",
       "      <td>0.000000</td>\n",
       "      <td>0.000000</td>\n",
       "      <td>1.514791e+09</td>\n",
       "      <td>2018-01-01 07:15:00</td>\n",
       "    </tr>\n",
       "    <tr>\n",
       "      <th>4</th>\n",
       "      <td>28815</td>\n",
       "      <td>2018-01-01 07:30:00</td>\n",
       "      <td>2018-01-01T07:29:48</td>\n",
       "      <td>./new/StateLineWeir_20180101_Farrell_460.jpg</td>\n",
       "      <td>USGS</td>\n",
       "      <td>6674500</td>\n",
       "      <td>MST</td>\n",
       "      <td>2.31</td>\n",
       "      <td>0.0</td>\n",
       "      <td>2020-03-12T09:36:56</td>\n",
       "      <td>...</td>\n",
       "      <td>0.0</td>\n",
       "      <td>0.0</td>\n",
       "      <td>0.000000</td>\n",
       "      <td>0.000000</td>\n",
       "      <td>0.0</td>\n",
       "      <td>0.0</td>\n",
       "      <td>0.000000</td>\n",
       "      <td>0.000000</td>\n",
       "      <td>1.514792e+09</td>\n",
       "      <td>2018-01-01 07:30:00</td>\n",
       "    </tr>\n",
       "    <tr>\n",
       "      <th>...</th>\n",
       "      <td>...</td>\n",
       "      <td>...</td>\n",
       "      <td>...</td>\n",
       "      <td>...</td>\n",
       "      <td>...</td>\n",
       "      <td>...</td>\n",
       "      <td>...</td>\n",
       "      <td>...</td>\n",
       "      <td>...</td>\n",
       "      <td>...</td>\n",
       "      <td>...</td>\n",
       "      <td>...</td>\n",
       "      <td>...</td>\n",
       "      <td>...</td>\n",
       "      <td>...</td>\n",
       "      <td>...</td>\n",
       "      <td>...</td>\n",
       "      <td>...</td>\n",
       "      <td>...</td>\n",
       "      <td>...</td>\n",
       "      <td>...</td>\n",
       "    </tr>\n",
       "    <tr>\n",
       "      <th>13243</th>\n",
       "      <td>42054</td>\n",
       "      <td>2019-10-11 09:00:00</td>\n",
       "      <td>2019-10-11T08:59:53</td>\n",
       "      <td>./new/StateLineWeir_20191011_Farrell_409.jpg</td>\n",
       "      <td>USGS</td>\n",
       "      <td>6674500</td>\n",
       "      <td>MDT</td>\n",
       "      <td>2.54</td>\n",
       "      <td>434.0</td>\n",
       "      <td>2020-03-12T16:23:53</td>\n",
       "      <td>...</td>\n",
       "      <td>9284.0</td>\n",
       "      <td>77521.0</td>\n",
       "      <td>38385.370066</td>\n",
       "      <td>15952.029728</td>\n",
       "      <td>0.0</td>\n",
       "      <td>70085.0</td>\n",
       "      <td>37550.894823</td>\n",
       "      <td>16444.401209</td>\n",
       "      <td>1.570784e+09</td>\n",
       "      <td>2019-10-11 09:00:00</td>\n",
       "    </tr>\n",
       "    <tr>\n",
       "      <th>13244</th>\n",
       "      <td>42055</td>\n",
       "      <td>2019-10-11 10:00:00</td>\n",
       "      <td>2019-10-11T09:59:52</td>\n",
       "      <td>./new/StateLineWeir_20191011_Farrell_410.jpg</td>\n",
       "      <td>USGS</td>\n",
       "      <td>6674500</td>\n",
       "      <td>MDT</td>\n",
       "      <td>2.54</td>\n",
       "      <td>434.0</td>\n",
       "      <td>2020-03-12T16:23:54</td>\n",
       "      <td>...</td>\n",
       "      <td>10092.0</td>\n",
       "      <td>74614.0</td>\n",
       "      <td>40162.989292</td>\n",
       "      <td>15467.708856</td>\n",
       "      <td>0.0</td>\n",
       "      <td>70061.0</td>\n",
       "      <td>39397.339095</td>\n",
       "      <td>16009.008049</td>\n",
       "      <td>1.570788e+09</td>\n",
       "      <td>2019-10-11 10:00:00</td>\n",
       "    </tr>\n",
       "    <tr>\n",
       "      <th>13245</th>\n",
       "      <td>42056</td>\n",
       "      <td>2019-10-11 11:00:00</td>\n",
       "      <td>2019-10-11T10:59:52</td>\n",
       "      <td>./new/StateLineWeir_20191011_Farrell_411.jpg</td>\n",
       "      <td>USGS</td>\n",
       "      <td>6674500</td>\n",
       "      <td>MDT</td>\n",
       "      <td>2.54</td>\n",
       "      <td>434.0</td>\n",
       "      <td>2020-03-12T16:23:55</td>\n",
       "      <td>...</td>\n",
       "      <td>7067.0</td>\n",
       "      <td>83260.0</td>\n",
       "      <td>42095.946590</td>\n",
       "      <td>16770.357949</td>\n",
       "      <td>0.0</td>\n",
       "      <td>76335.0</td>\n",
       "      <td>41350.006568</td>\n",
       "      <td>17489.374617</td>\n",
       "      <td>1.570792e+09</td>\n",
       "      <td>2019-10-11 11:00:00</td>\n",
       "    </tr>\n",
       "    <tr>\n",
       "      <th>13246</th>\n",
       "      <td>42057</td>\n",
       "      <td>2019-10-11 12:00:00</td>\n",
       "      <td>2019-10-11T11:59:53</td>\n",
       "      <td>./new/StateLineWeir_20191011_Farrell_412.jpg</td>\n",
       "      <td>USGS</td>\n",
       "      <td>6674500</td>\n",
       "      <td>MDT</td>\n",
       "      <td>2.54</td>\n",
       "      <td>434.0</td>\n",
       "      <td>2020-03-12T16:23:56</td>\n",
       "      <td>...</td>\n",
       "      <td>6283.0</td>\n",
       "      <td>83045.0</td>\n",
       "      <td>45345.490954</td>\n",
       "      <td>17498.432849</td>\n",
       "      <td>0.0</td>\n",
       "      <td>78882.0</td>\n",
       "      <td>44553.920296</td>\n",
       "      <td>18268.294896</td>\n",
       "      <td>1.570795e+09</td>\n",
       "      <td>2019-10-11 12:00:00</td>\n",
       "    </tr>\n",
       "    <tr>\n",
       "      <th>13247</th>\n",
       "      <td>42058</td>\n",
       "      <td>2019-10-11 12:45:00</td>\n",
       "      <td>2019-10-11T12:59:52</td>\n",
       "      <td>./new/StateLineWeir_20191011_Farrell_413.jpg</td>\n",
       "      <td>USGS</td>\n",
       "      <td>6674500</td>\n",
       "      <td>MDT</td>\n",
       "      <td>2.54</td>\n",
       "      <td>434.0</td>\n",
       "      <td>2020-03-12T16:23:58</td>\n",
       "      <td>...</td>\n",
       "      <td>7375.0</td>\n",
       "      <td>89813.0</td>\n",
       "      <td>47877.870782</td>\n",
       "      <td>19963.166359</td>\n",
       "      <td>0.0</td>\n",
       "      <td>82630.0</td>\n",
       "      <td>47280.270559</td>\n",
       "      <td>20559.358767</td>\n",
       "      <td>1.570798e+09</td>\n",
       "      <td>2019-10-11 12:45:00</td>\n",
       "    </tr>\n",
       "  </tbody>\n",
       "</table>\n",
       "<p>13248 rows × 62 columns</p>\n",
       "</div>"
      ],
      "text/plain": [
       "       index           SensorTime          CaptureTime  \\\n",
       "0      28811  2018-01-01 02:15:00  2018-01-01T02:08:44   \n",
       "1      28812  2018-01-01 06:45:00  2018-01-01T06:44:48   \n",
       "2      28813  2018-01-01 07:00:00  2018-01-01T06:59:49   \n",
       "3      28814  2018-01-01 07:15:00  2018-01-01T07:14:48   \n",
       "4      28815  2018-01-01 07:30:00  2018-01-01T07:29:48   \n",
       "...      ...                  ...                  ...   \n",
       "13243  42054  2019-10-11 09:00:00  2019-10-11T08:59:53   \n",
       "13244  42055  2019-10-11 10:00:00  2019-10-11T09:59:52   \n",
       "13245  42056  2019-10-11 11:00:00  2019-10-11T10:59:52   \n",
       "13246  42057  2019-10-11 12:00:00  2019-10-11T11:59:53   \n",
       "13247  42058  2019-10-11 12:45:00  2019-10-11T12:59:52   \n",
       "\n",
       "                                           Filename  Agency   SiteNumber  \\\n",
       "0      ./new/StateLineWeir_20180101_Farrell_453.jpg    USGS      6674500   \n",
       "1      ./new/StateLineWeir_20180101_Farrell_457.jpg    USGS      6674500   \n",
       "2      ./new/StateLineWeir_20180101_Farrell_458.jpg    USGS      6674500   \n",
       "3      ./new/StateLineWeir_20180101_Farrell_459.jpg    USGS      6674500   \n",
       "4      ./new/StateLineWeir_20180101_Farrell_460.jpg    USGS      6674500   \n",
       "...                                             ...     ...          ...   \n",
       "13243  ./new/StateLineWeir_20191011_Farrell_409.jpg    USGS      6674500   \n",
       "13244  ./new/StateLineWeir_20191011_Farrell_410.jpg    USGS      6674500   \n",
       "13245  ./new/StateLineWeir_20191011_Farrell_411.jpg    USGS      6674500   \n",
       "13246  ./new/StateLineWeir_20191011_Farrell_412.jpg    USGS      6674500   \n",
       "13247  ./new/StateLineWeir_20191011_Farrell_413.jpg    USGS      6674500   \n",
       "\n",
       "       TimeZone   Stage   Discharge        CalcTimestamp  ...   WwRawLineMin  \\\n",
       "0           MST    2.45         0.0  2020-03-12T09:26:44  ...          393.0   \n",
       "1           MST    2.34         0.0  2020-03-12T09:26:46  ...            0.0   \n",
       "2           MST    2.33         0.0  2020-03-12T09:26:47  ...            0.0   \n",
       "3           MST    2.32         0.0  2020-03-12T09:26:54  ...            0.0   \n",
       "4           MST    2.31         0.0  2020-03-12T09:36:56  ...            0.0   \n",
       "...         ...     ...         ...                  ...  ...            ...   \n",
       "13243       MDT    2.54       434.0  2020-03-12T16:23:53  ...         9284.0   \n",
       "13244       MDT    2.54       434.0  2020-03-12T16:23:54  ...        10092.0   \n",
       "13245       MDT    2.54       434.0  2020-03-12T16:23:55  ...         7067.0   \n",
       "13246       MDT    2.54       434.0  2020-03-12T16:23:56  ...         6283.0   \n",
       "13247       MDT    2.54       434.0  2020-03-12T16:23:58  ...         7375.0   \n",
       "\n",
       "        WwRawLineMax   WwRawLineMean   WwRawLineSigma   WwCurveLineMin  \\\n",
       "0            47128.0    17538.540875     10663.453431              0.0   \n",
       "1            74062.0    32635.285480     20324.633643              0.0   \n",
       "2            80616.0    36381.414274     22022.605055              0.0   \n",
       "3                0.0        0.000000         0.000000              0.0   \n",
       "4                0.0        0.000000         0.000000              0.0   \n",
       "...              ...             ...              ...              ...   \n",
       "13243        77521.0    38385.370066     15952.029728              0.0   \n",
       "13244        74614.0    40162.989292     15467.708856              0.0   \n",
       "13245        83260.0    42095.946590     16770.357949              0.0   \n",
       "13246        83045.0    45345.490954     17498.432849              0.0   \n",
       "13247        89813.0    47877.870782     19963.166359              0.0   \n",
       "\n",
       "        WwCurveLineMax   WwCurveLineMean   WwCurveLineSigma  \\\n",
       "0              41212.0      16854.627888       10165.028689   \n",
       "1              70220.0      31756.413934       20416.304778   \n",
       "2              76294.0      35388.806557       22170.894569   \n",
       "3                  0.0          0.000000           0.000000   \n",
       "4                  0.0          0.000000           0.000000   \n",
       "...                ...               ...                ...   \n",
       "13243          70085.0      37550.894823       16444.401209   \n",
       "13244          70061.0      39397.339095       16009.008049   \n",
       "13245          76335.0      41350.006568       17489.374617   \n",
       "13246          78882.0      44553.920296       18268.294896   \n",
       "13247          82630.0      47280.270559       20559.358767   \n",
       "\n",
       "       SensorTimeSeconds             datetime  \n",
       "0           1.514773e+09  2018-01-01 02:15:00  \n",
       "1           1.514789e+09  2018-01-01 06:45:00  \n",
       "2           1.514790e+09  2018-01-01 07:00:00  \n",
       "3           1.514791e+09  2018-01-01 07:15:00  \n",
       "4           1.514792e+09  2018-01-01 07:30:00  \n",
       "...                  ...                  ...  \n",
       "13243       1.570784e+09  2019-10-11 09:00:00  \n",
       "13244       1.570788e+09  2019-10-11 10:00:00  \n",
       "13245       1.570792e+09  2019-10-11 11:00:00  \n",
       "13246       1.570795e+09  2019-10-11 12:00:00  \n",
       "13247       1.570798e+09  2019-10-11 12:45:00  \n",
       "\n",
       "[13248 rows x 62 columns]"
      ]
     },
     "execution_count": 58,
     "metadata": {},
     "output_type": "execute_result"
    }
   ],
   "source": [
    "dfTest"
   ]
  },
  {
   "cell_type": "code",
   "execution_count": 28,
   "metadata": {},
   "outputs": [],
   "source": [
    "model5 = Sequential([\n",
    "            Conv2D(32, (3,3), activation='linear'),\n",
    "            MaxPooling2D((2,2)),\n",
    "            Conv2D(64, (3,3), activation='linear'),\n",
    "            MaxPooling2D((2,2)),\n",
    "            Conv2D(128, (3,3), activation='linear'),\n",
    "            MaxPooling2D((2,2)),\n",
    "            Flatten(),\n",
    "            Dense(64, activation='linear'),\n",
    "            Dense(32, activation='linear'),\n",
    "            Dense(1, activation='linear')\n",
    "]) "
   ]
  },
  {
   "cell_type": "code",
   "execution_count": 29,
   "metadata": {},
   "outputs": [],
   "source": [
    "model5.compile(optimizer='adam', metrics=['mae'], loss=\"mean_squared_error\",)"
   ]
  },
  {
   "cell_type": "code",
   "execution_count": 30,
   "metadata": {},
   "outputs": [
    {
     "name": "stdout",
     "output_type": "stream",
     "text": [
      "Found 21420 validated image filenames.\n"
     ]
    },
    {
     "name": "stderr",
     "output_type": "stream",
     "text": [
      "C:\\Users\\david\\miniconda3\\envs\\tf_2.4\\lib\\site-packages\\keras\\preprocessing\\image.py:1139: UserWarning: Found 1 invalid image filename(s) in x_col=\" Filename\". These filename(s) will be ignored.\n",
      "  warnings.warn(\n"
     ]
    },
    {
     "name": "stdout",
     "output_type": "stream",
     "text": [
      "Found 13248 validated image filenames.\n",
      "Found 2661 validated image filenames.\n",
      "Found 4280 validated image filenames.\n",
      "Found 4450 validated image filenames.\n",
      "Found 1857 validated image filenames.\n",
      "Found 7390 validated image filenames.\n"
     ]
    }
   ],
   "source": [
    "def to_grayscale_then_rgb(image):\n",
    "    image = tf.image.rgb_to_grayscale(image)\n",
    "    image = tf.image.grayscale_to_rgb(image)\n",
    "    return image\n",
    "\n",
    "generator = ImageDataGenerator(\n",
    "    rescale= 1. / 255,\n",
    "    preprocessing_function=to_grayscale_then_rgb\n",
    ")\n",
    "\n",
    "train = generator.flow_from_dataframe(\n",
    "    dataframe=dfTrain,\n",
    "    x_col=' Filename',\n",
    "    y_col=' Stage',\n",
    "    target_size=(280, 230),\n",
    "    batch_size=16, \n",
    "    class_mode='raw',\n",
    "    validate_filenames=True\n",
    ")\n",
    "\n",
    "test = generator.flow_from_dataframe(\n",
    "    dataframe=dfTest,\n",
    "    x_col=' Filename', \n",
    "    y_col=' Stage',\n",
    "    target_size=(280, 230),\n",
    "    batch_size=16,\n",
    "    class_mode='raw',\n",
    "    validate_filenames=True\n",
    ")\n",
    "\n",
    "testWinter = generator.flow_from_dataframe(\n",
    "    dataframe=dfTestWinter,\n",
    "    x_col=' Filename', \n",
    "    y_col=' Stage',\n",
    "    target_size=(280, 230),\n",
    "    batch_size=16,\n",
    "    class_mode='raw',\n",
    "    validate_filenames=True\n",
    ")\n",
    "\n",
    "testSummer = generator.flow_from_dataframe(\n",
    "    dataframe=dfTestSummer,\n",
    "    x_col=' Filename', \n",
    "    y_col=' Stage',\n",
    "    target_size=(280, 230),\n",
    "    batch_size=16,\n",
    "    class_mode='raw',\n",
    "    validate_filenames=True\n",
    ")\n",
    "\n",
    "testSpring = generator.flow_from_dataframe(\n",
    "    dataframe=dfTestSpring,\n",
    "    x_col=' Filename', \n",
    "    y_col=' Stage',\n",
    "    target_size=(280, 230),\n",
    "    batch_size=16,\n",
    "    class_mode='raw',\n",
    "    validate_filenames=True\n",
    ")\n",
    "\n",
    "testAutumn = generator.flow_from_dataframe(\n",
    "    dataframe=dfTestAutumn,\n",
    "    x_col=' Filename', \n",
    "    y_col=' Stage',\n",
    "    target_size=(280, 230),\n",
    "    batch_size=16,\n",
    "    class_mode='raw',\n",
    "    validate_filenames=True\n",
    ")\n",
    "\n",
    "validation = generator.flow_from_dataframe(\n",
    "    dataframe=dfValidation,\n",
    "    x_col=' Filename',\n",
    "    y_col=' Stage',\n",
    "    target_size=(280, 230), \n",
    "    batch_size=16, \n",
    "    class_mode='raw',\n",
    "    validate_filenames=True\n",
    ")"
   ]
  },
  {
   "cell_type": "code",
   "execution_count": 31,
   "metadata": {},
   "outputs": [
    {
     "name": "stdout",
     "output_type": "stream",
     "text": [
      "Epoch 1/5\n",
      "1339/1339 [==============================] - 276s 206ms/step - loss: 15.1389 - mae: 0.7158 - val_loss: 0.1493 - val_mae: 0.3076\n",
      "Epoch 2/5\n",
      "1339/1339 [==============================] - 168s 125ms/step - loss: 0.0795 - mae: 0.2102 - val_loss: 0.3675 - val_mae: 0.5388\n",
      "Epoch 3/5\n",
      "1339/1339 [==============================] - 163s 122ms/step - loss: 0.0502 - mae: 0.1649 - val_loss: 0.0751 - val_mae: 0.2142\n",
      "Epoch 4/5\n",
      "1339/1339 [==============================] - 166s 124ms/step - loss: 0.0347 - mae: 0.1360 - val_loss: 0.0886 - val_mae: 0.2370\n",
      "Epoch 5/5\n",
      "1339/1339 [==============================] - 164s 122ms/step - loss: 0.0255 - mae: 0.1164 - val_loss: 0.0676 - val_mae: 0.1959\n"
     ]
    }
   ],
   "source": [
    "history = model5.fit(train, epochs=5, validation_data=validation)"
   ]
  },
  {
   "cell_type": "code",
   "execution_count": 32,
   "metadata": {},
   "outputs": [
    {
     "data": {
      "image/png": "[encoded data removed]",
      "text/plain": [
       "<Figure size 640x480 with 1 Axes>"
      ]
     },
     "metadata": {},
     "output_type": "display_data"
    },
    {
     "data": {
      "image/png": "[encoded data removed]",
      "text/plain": [
       "<Figure size 640x480 with 1 Axes>"
      ]
     },
     "metadata": {},
     "output_type": "display_data"
    }
   ],
   "source": [
    "acc = history.history['mae']\n",
    "val_acc = history.history['val_mae']\n",
    "epochs = range(len(acc))\n",
    "\n",
    "plt.plot(epochs, acc, 'b', label='Training MSE')\n",
    "plt.plot(epochs, val_acc, 'r', label='Validation MSE')\n",
    "plt.title('MSE Graph')\n",
    "plt.legend()\n",
    "plt.figure()\n",
    "\n",
    "loss = history.history['loss']\n",
    "val_loss = history.history['val_loss']\n",
    "plt.plot(epochs, loss, 'b', label='Training Loss')\n",
    "plt.plot(epochs, val_loss, 'r', label='Validation Loss')\n",
    "plt.title('Loss Graph')\n",
    "plt.legend()\n",
    "plt.show()"
   ]
  },
  {
   "cell_type": "code",
   "execution_count": 46,
   "metadata": {},
   "outputs": [
    {
     "name": "stdout",
     "output_type": "stream",
     "text": [
      "828/828 [==============================] - 67s 81ms/step\n"
     ]
    }
   ],
   "source": [
    "ypred3 = model5.predict(test)"
   ]
  },
  {
   "cell_type": "code",
   "execution_count": 47,
   "metadata": {},
   "outputs": [
    {
     "name": "stdout",
     "output_type": "stream",
     "text": [
      "828/828 [==============================] - 69s 83ms/step - loss: 0.1439 - mae: 0.3077\n"
     ]
    }
   ],
   "source": [
    "test_loss, test_mae = model5.evaluate(test)"
   ]
  },
  {
   "cell_type": "code",
   "execution_count": 48,
   "metadata": {},
   "outputs": [
    {
     "name": "stdout",
     "output_type": "stream",
     "text": [
      "0.14389780163764954\n"
     ]
    },
    {
     "data": {
      "text/plain": [
       "0.3077220916748047"
      ]
     },
     "execution_count": 48,
     "metadata": {},
     "output_type": "execute_result"
    }
   ],
   "source": [
    "print(test_loss)\n",
    "test_mae"
   ]
  },
  {
   "cell_type": "code",
   "execution_count": 49,
   "metadata": {},
   "outputs": [
    {
     "name": "stdout",
     "output_type": "stream",
     "text": [
      "117/117 [==============================] - 9s 79ms/step - loss: 0.1484 - mae: 0.2727\n"
     ]
    }
   ],
   "source": [
    "test_loss_autumn, test_mae_autumn = model5.evaluate(testAutumn)"
   ]
  },
  {
   "cell_type": "code",
   "execution_count": 50,
   "metadata": {},
   "outputs": [
    {
     "name": "stdout",
     "output_type": "stream",
     "text": [
      "0.14840790629386902\n"
     ]
    },
    {
     "data": {
      "text/plain": [
       "0.2727087438106537"
      ]
     },
     "execution_count": 50,
     "metadata": {},
     "output_type": "execute_result"
    }
   ],
   "source": [
    "print(test_loss_autumn)\n",
    "test_mae_autumn"
   ]
  },
  {
   "cell_type": "code",
   "execution_count": 51,
   "metadata": {},
   "outputs": [
    {
     "name": "stdout",
     "output_type": "stream",
     "text": [
      "279/279 [==============================] - 23s 83ms/step - loss: 0.1755 - mae: 0.3423\n"
     ]
    }
   ],
   "source": [
    "test_loss_spring, test_mae_spring = model5.evaluate(testSpring)"
   ]
  },
  {
   "cell_type": "code",
   "execution_count": 52,
   "metadata": {},
   "outputs": [
    {
     "name": "stdout",
     "output_type": "stream",
     "text": [
      "0.17550510168075562\n"
     ]
    },
    {
     "data": {
      "text/plain": [
       "0.34228748083114624"
      ]
     },
     "execution_count": 52,
     "metadata": {},
     "output_type": "execute_result"
    }
   ],
   "source": [
    "print(test_loss_spring)\n",
    "test_mae_spring"
   ]
  },
  {
   "cell_type": "code",
   "execution_count": 53,
   "metadata": {},
   "outputs": [
    {
     "name": "stdout",
     "output_type": "stream",
     "text": [
      "268/268 [==============================] - 22s 81ms/step - loss: 0.0940 - mae: 0.2567\n"
     ]
    }
   ],
   "source": [
    "test_loss_summer, test_mae_summer = model5.evaluate(testSummer)"
   ]
  },
  {
   "cell_type": "code",
   "execution_count": 54,
   "metadata": {},
   "outputs": [
    {
     "name": "stdout",
     "output_type": "stream",
     "text": [
      "0.09399978816509247\n"
     ]
    },
    {
     "data": {
      "text/plain": [
       "0.2567172050476074"
      ]
     },
     "execution_count": 54,
     "metadata": {},
     "output_type": "execute_result"
    }
   ],
   "source": [
    "print(test_loss_summer)\n",
    "test_mae_summer"
   ]
  },
  {
   "cell_type": "code",
   "execution_count": 55,
   "metadata": {},
   "outputs": [
    {
     "name": "stdout",
     "output_type": "stream",
     "text": [
      "167/167 [==============================] - 14s 84ms/step - loss: 0.1682 - mae: 0.3564\n"
     ]
    }
   ],
   "source": [
    "test_loss_winter, test_mae_winter = model5.evaluate(testWinter)"
   ]
  },
  {
   "cell_type": "code",
   "execution_count": 56,
   "metadata": {},
   "outputs": [
    {
     "name": "stdout",
     "output_type": "stream",
     "text": [
      "0.1681506484746933\n"
     ]
    },
    {
     "data": {
      "text/plain": [
       "0.35638993978500366"
      ]
     },
     "execution_count": 56,
     "metadata": {},
     "output_type": "execute_result"
    }
   ],
   "source": [
    "print(test_loss_winter)\n",
    "test_mae_winter"
   ]
  },
  {
   "cell_type": "code",
   "execution_count": 63,
   "metadata": {},
   "outputs": [
    {
     "name": "stdout",
     "output_type": "stream",
     "text": [
      "[2.42, 3.1, 2.23, 2.23]\n",
      "[array([2.4835947], dtype=float32), array([2.9343166], dtype=float32), array([2.5145679], dtype=float32), array([2.4965417], dtype=float32)]\n"
     ]
    }
   ],
   "source": [
    "predictions = []\n",
    "real_data = []\n",
    "for i in range(4):\n",
    "    index = random.randint(0, 8400)\n",
    "    real_data.append(dfTest.iloc[index][7])\n",
    "    predictions.append(ypred3[index])\n",
    "print(real_data)\n",
    "print(predictions)"
   ]
  },
  {
   "cell_type": "code",
   "execution_count": null,
   "metadata": {},
   "outputs": [],
   "source": []
  },
  {
   "cell_type": "code",
   "execution_count": null,
   "metadata": {},
   "outputs": [],
   "source": []
  }
 ],
 "metadata": {
  "kernelspec": {
   "display_name": "Python 3 (ipykernel)",
   "language": "python",
   "name": "python3"
  },
  "language_info": {
   "codemirror_mode": {
    "name": "ipython",
    "version": 3
   },
   "file_extension": ".py",
   "mimetype": "text/x-python",
   "name": "python",
   "nbconvert_exporter": "python",
   "pygments_lexer": "ipython3",
   "version": "3.8.5"
  },
  "vscode": {
   "interpreter": {
    "hash": "54883a7121a713d77125f1e58771414b12d9415a58e298846e2d0c0165565864"
   }
  }
 },
 "nbformat": 4,
 "nbformat_minor": 2
}
